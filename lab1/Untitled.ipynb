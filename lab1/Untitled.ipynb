{
 "cells": [
  {
   "cell_type": "markdown",
   "id": "5e4832fa-7d67-4db2-8cb2-af0ec06c9261",
   "metadata": {},
   "source": [
    "<h1>Meteorite landings</h1>"
   ]
  },
  {
   "cell_type": "markdown",
   "id": "316b1f99-b718-42de-8c37-a6c818e5b55f",
   "metadata": {},
   "source": [
    "В данной работе используются данные о метеоритах упавших на Землю. Они классифицируются по составу и методу обнаружения. \n",
    "По составу имеются классы : L6 (18%), Н5 (16%) и 30289 других классов (66%).\n",
    "По методу обнаружения: падения (когда метеорит находят после наблюдения его падения в атмосфере) и находки (когда метеоритное происхождение материала определяется только путём анализа).\n",
    "Второй способ классификации будет более информативным и конкретным для данной выборки, поэтому я буду использовать его в данной работе."
   ]
  },
  {
   "cell_type": "markdown",
   "id": "3366a631-4f19-4ef4-ad75-d5e44d7cc9ff",
   "metadata": {},
   "source": [
    "<div class=\"alert alert-block alert-info\">\n",
    "<b>Подключение необходимых библиотек</b></div>"
   ]
  },
  {
   "cell_type": "code",
   "execution_count": 1,
   "id": "379f0a49-4206-4477-8e41-4996d6201767",
   "metadata": {},
   "outputs": [],
   "source": [
    "import numpy as np\n",
    "import matplotlib.pyplot as plt\n",
    "import pandas as pd\n",
    "import seaborn as sns\n",
    "%matplotlib inline"
   ]
  },
  {
   "cell_type": "markdown",
   "id": "aa923bee-7701-4168-867d-40e0fd94c703",
   "metadata": {},
   "source": [
    "<div class=\"alert alert-block alert-info\">\n",
    "<b>Чтение и разбор данных</b></div>"
   ]
  },
  {
   "cell_type": "code",
   "execution_count": 2,
   "id": "9ff10bd3-1159-4ba8-be6a-5becfd57bc06",
   "metadata": {},
   "outputs": [],
   "source": [
    "data = pd.read_csv('meteorite-landings.csv', sep=',', header=0,  engine='python')"
   ]
  },
  {
   "cell_type": "code",
   "execution_count": 3,
   "id": "d3b1612f-63a9-4d49-9038-1df37334a261",
   "metadata": {},
   "outputs": [
    {
     "data": {
      "text/html": [
       "<div>\n",
       "<style scoped>\n",
       "    .dataframe tbody tr th:only-of-type {\n",
       "        vertical-align: middle;\n",
       "    }\n",
       "\n",
       "    .dataframe tbody tr th {\n",
       "        vertical-align: top;\n",
       "    }\n",
       "\n",
       "    .dataframe thead th {\n",
       "        text-align: right;\n",
       "    }\n",
       "</style>\n",
       "<table border=\"1\" class=\"dataframe\">\n",
       "  <thead>\n",
       "    <tr style=\"text-align: right;\">\n",
       "      <th></th>\n",
       "      <th>name</th>\n",
       "      <th>id</th>\n",
       "      <th>nametype</th>\n",
       "      <th>recclass</th>\n",
       "      <th>mass</th>\n",
       "      <th>fall</th>\n",
       "      <th>year</th>\n",
       "      <th>reclat</th>\n",
       "      <th>reclong</th>\n",
       "      <th>GeoLocation</th>\n",
       "    </tr>\n",
       "  </thead>\n",
       "  <tbody>\n",
       "    <tr>\n",
       "      <th>0</th>\n",
       "      <td>Aachen</td>\n",
       "      <td>1</td>\n",
       "      <td>Valid</td>\n",
       "      <td>L5</td>\n",
       "      <td>21.0</td>\n",
       "      <td>Fell</td>\n",
       "      <td>1880.0</td>\n",
       "      <td>50.77500</td>\n",
       "      <td>6.08333</td>\n",
       "      <td>(50.775000, 6.083330)</td>\n",
       "    </tr>\n",
       "    <tr>\n",
       "      <th>1</th>\n",
       "      <td>Aarhus</td>\n",
       "      <td>2</td>\n",
       "      <td>Valid</td>\n",
       "      <td>H6</td>\n",
       "      <td>720.0</td>\n",
       "      <td>Fell</td>\n",
       "      <td>1951.0</td>\n",
       "      <td>56.18333</td>\n",
       "      <td>10.23333</td>\n",
       "      <td>(56.183330, 10.233330)</td>\n",
       "    </tr>\n",
       "    <tr>\n",
       "      <th>2</th>\n",
       "      <td>Abee</td>\n",
       "      <td>6</td>\n",
       "      <td>Valid</td>\n",
       "      <td>EH4</td>\n",
       "      <td>107000.0</td>\n",
       "      <td>Fell</td>\n",
       "      <td>1952.0</td>\n",
       "      <td>54.21667</td>\n",
       "      <td>-113.00000</td>\n",
       "      <td>(54.216670, -113.000000)</td>\n",
       "    </tr>\n",
       "    <tr>\n",
       "      <th>3</th>\n",
       "      <td>Acapulco</td>\n",
       "      <td>10</td>\n",
       "      <td>Valid</td>\n",
       "      <td>Acapulcoite</td>\n",
       "      <td>1914.0</td>\n",
       "      <td>Fell</td>\n",
       "      <td>1976.0</td>\n",
       "      <td>16.88333</td>\n",
       "      <td>-99.90000</td>\n",
       "      <td>(16.883330, -99.900000)</td>\n",
       "    </tr>\n",
       "    <tr>\n",
       "      <th>4</th>\n",
       "      <td>Achiras</td>\n",
       "      <td>370</td>\n",
       "      <td>Valid</td>\n",
       "      <td>L6</td>\n",
       "      <td>780.0</td>\n",
       "      <td>Fell</td>\n",
       "      <td>1902.0</td>\n",
       "      <td>-33.16667</td>\n",
       "      <td>-64.95000</td>\n",
       "      <td>(-33.166670, -64.950000)</td>\n",
       "    </tr>\n",
       "    <tr>\n",
       "      <th>...</th>\n",
       "      <td>...</td>\n",
       "      <td>...</td>\n",
       "      <td>...</td>\n",
       "      <td>...</td>\n",
       "      <td>...</td>\n",
       "      <td>...</td>\n",
       "      <td>...</td>\n",
       "      <td>...</td>\n",
       "      <td>...</td>\n",
       "      <td>...</td>\n",
       "    </tr>\n",
       "    <tr>\n",
       "      <th>45711</th>\n",
       "      <td>Zillah 002</td>\n",
       "      <td>31356</td>\n",
       "      <td>Valid</td>\n",
       "      <td>Eucrite</td>\n",
       "      <td>172.0</td>\n",
       "      <td>Found</td>\n",
       "      <td>1990.0</td>\n",
       "      <td>29.03700</td>\n",
       "      <td>17.01850</td>\n",
       "      <td>(29.037000, 17.018500)</td>\n",
       "    </tr>\n",
       "    <tr>\n",
       "      <th>45712</th>\n",
       "      <td>Zinder</td>\n",
       "      <td>30409</td>\n",
       "      <td>Valid</td>\n",
       "      <td>Pallasite, ungrouped</td>\n",
       "      <td>46.0</td>\n",
       "      <td>Found</td>\n",
       "      <td>1999.0</td>\n",
       "      <td>13.78333</td>\n",
       "      <td>8.96667</td>\n",
       "      <td>(13.783330, 8.966670)</td>\n",
       "    </tr>\n",
       "    <tr>\n",
       "      <th>45713</th>\n",
       "      <td>Zlin</td>\n",
       "      <td>30410</td>\n",
       "      <td>Valid</td>\n",
       "      <td>H4</td>\n",
       "      <td>3.3</td>\n",
       "      <td>Found</td>\n",
       "      <td>1939.0</td>\n",
       "      <td>49.25000</td>\n",
       "      <td>17.66667</td>\n",
       "      <td>(49.250000, 17.666670)</td>\n",
       "    </tr>\n",
       "    <tr>\n",
       "      <th>45714</th>\n",
       "      <td>Zubkovsky</td>\n",
       "      <td>31357</td>\n",
       "      <td>Valid</td>\n",
       "      <td>L6</td>\n",
       "      <td>2167.0</td>\n",
       "      <td>Found</td>\n",
       "      <td>2003.0</td>\n",
       "      <td>49.78917</td>\n",
       "      <td>41.50460</td>\n",
       "      <td>(49.789170, 41.504600)</td>\n",
       "    </tr>\n",
       "    <tr>\n",
       "      <th>45715</th>\n",
       "      <td>Zulu Queen</td>\n",
       "      <td>30414</td>\n",
       "      <td>Valid</td>\n",
       "      <td>L3.7</td>\n",
       "      <td>200.0</td>\n",
       "      <td>Found</td>\n",
       "      <td>1976.0</td>\n",
       "      <td>33.98333</td>\n",
       "      <td>-115.68333</td>\n",
       "      <td>(33.983330, -115.683330)</td>\n",
       "    </tr>\n",
       "  </tbody>\n",
       "</table>\n",
       "<p>45716 rows × 10 columns</p>\n",
       "</div>"
      ],
      "text/plain": [
       "             name     id nametype              recclass      mass   fall  \\\n",
       "0          Aachen      1    Valid                    L5      21.0   Fell   \n",
       "1          Aarhus      2    Valid                    H6     720.0   Fell   \n",
       "2            Abee      6    Valid                   EH4  107000.0   Fell   \n",
       "3        Acapulco     10    Valid           Acapulcoite    1914.0   Fell   \n",
       "4         Achiras    370    Valid                    L6     780.0   Fell   \n",
       "...           ...    ...      ...                   ...       ...    ...   \n",
       "45711  Zillah 002  31356    Valid               Eucrite     172.0  Found   \n",
       "45712      Zinder  30409    Valid  Pallasite, ungrouped      46.0  Found   \n",
       "45713        Zlin  30410    Valid                    H4       3.3  Found   \n",
       "45714   Zubkovsky  31357    Valid                    L6    2167.0  Found   \n",
       "45715  Zulu Queen  30414    Valid                  L3.7     200.0  Found   \n",
       "\n",
       "         year    reclat    reclong               GeoLocation  \n",
       "0      1880.0  50.77500    6.08333     (50.775000, 6.083330)  \n",
       "1      1951.0  56.18333   10.23333    (56.183330, 10.233330)  \n",
       "2      1952.0  54.21667 -113.00000  (54.216670, -113.000000)  \n",
       "3      1976.0  16.88333  -99.90000   (16.883330, -99.900000)  \n",
       "4      1902.0 -33.16667  -64.95000  (-33.166670, -64.950000)  \n",
       "...       ...       ...        ...                       ...  \n",
       "45711  1990.0  29.03700   17.01850    (29.037000, 17.018500)  \n",
       "45712  1999.0  13.78333    8.96667     (13.783330, 8.966670)  \n",
       "45713  1939.0  49.25000   17.66667    (49.250000, 17.666670)  \n",
       "45714  2003.0  49.78917   41.50460    (49.789170, 41.504600)  \n",
       "45715  1976.0  33.98333 -115.68333  (33.983330, -115.683330)  \n",
       "\n",
       "[45716 rows x 10 columns]"
      ]
     },
     "execution_count": 3,
     "metadata": {},
     "output_type": "execute_result"
    }
   ],
   "source": [
    "data\n"
   ]
  },
  {
   "cell_type": "markdown",
   "id": "7442e891-93db-4f8b-b374-efd4461dcb6f",
   "metadata": {},
   "source": [
    "<h4><em>Набор данных содержит следующие переменные:</em></h4>\n",
    "<em>\n",
    "<ul>\n",
    " <li>name : название метеорита (обычно местоположение, часто изменяемое числом, годом, составом и т. д.)</li>\n",
    " <li>id : уникальный идентификатор метеорита</li>\n",
    " <li>nametype :\n",
    " <ul>\n",
    " <li>Valid : типичный метеорит</li>\n",
    " <li>Relict : метеорит, сильно разрушенный погодными условиями на Земле</li>\n",
    " </ul>\n",
    " </li>\n",
    " <li>recclass : класс метеорита; один из большого количества классов на основе физических, химических и других характеристик</li>\n",
    " <li>mass : масса метеорита в граммах</li>\n",
    " <li>fall: <ul>\n",
    " <li>Fell : наблюдалось падение метеорита</li>\n",
    " <li>Found: падение метеорита не наблюдалось</li>\n",
    " </ul>\n",
    " </li>\n",
    " <li>year : год падения метеорита или год его обнаружения (в зависимости от величины падения )</li>\n",
    " <li>reclat : широта приземления метеорита</li>\n",
    " <li>reclong : долгота падения метеорита</li>\n",
    " <li>GeoLocation : заключенный в круглые скобки, разделенный запятыми кортеж, который объединяет reclat и reclong.</li>\n",
    " </ul>\n",
    " </em>"
   ]
  },
  {
   "cell_type": "code",
   "execution_count": 4,
   "id": "6037d9eb-6a14-4e1d-8577-6f49d87a181b",
   "metadata": {},
   "outputs": [
    {
     "name": "stdout",
     "output_type": "stream",
     "text": [
      "             name     id nametype              recclass      mass   fall  \\\n",
      "0          Aachen      1    Valid                    L5      21.0   Fell   \n",
      "1          Aarhus      2    Valid                    H6     720.0   Fell   \n",
      "2            Abee      6    Valid                   EH4  107000.0   Fell   \n",
      "3        Acapulco     10    Valid           Acapulcoite    1914.0   Fell   \n",
      "4         Achiras    370    Valid                    L6     780.0   Fell   \n",
      "...           ...    ...      ...                   ...       ...    ...   \n",
      "45711  Zillah 002  31356    Valid               Eucrite     172.0  Found   \n",
      "45712      Zinder  30409    Valid  Pallasite, ungrouped      46.0  Found   \n",
      "45713        Zlin  30410    Valid                    H4       3.3  Found   \n",
      "45714   Zubkovsky  31357    Valid                    L6    2167.0  Found   \n",
      "45715  Zulu Queen  30414    Valid                  L3.7     200.0  Found   \n",
      "\n",
      "         year    reclat    reclong               GeoLocation  \n",
      "0      1880.0  50.77500    6.08333     (50.775000, 6.083330)  \n",
      "1      1951.0  56.18333   10.23333    (56.183330, 10.233330)  \n",
      "2      1952.0  54.21667 -113.00000  (54.216670, -113.000000)  \n",
      "3      1976.0  16.88333  -99.90000   (16.883330, -99.900000)  \n",
      "4      1902.0 -33.16667  -64.95000  (-33.166670, -64.950000)  \n",
      "...       ...       ...        ...                       ...  \n",
      "45711  1990.0  29.03700   17.01850    (29.037000, 17.018500)  \n",
      "45712  1999.0  13.78333    8.96667     (13.783330, 8.966670)  \n",
      "45713  1939.0  49.25000   17.66667    (49.250000, 17.666670)  \n",
      "45714  2003.0  49.78917   41.50460    (49.789170, 41.504600)  \n",
      "45715  1976.0  33.98333 -115.68333  (33.983330, -115.683330)  \n",
      "\n",
      "[45716 rows x 10 columns]\n"
     ]
    }
   ],
   "source": [
    "print(data)"
   ]
  },
  {
   "cell_type": "markdown",
   "id": "b199abd3-dfaa-476c-90e1-fc5be4861f5a",
   "metadata": {},
   "source": [
    "<div class=\"alert alert-block alert-info\">\n",
    "<b>Визуализация данных и вычисление основных значений</b></div>"
   ]
  },
  {
   "cell_type": "code",
   "execution_count": 5,
   "id": "e6cef4ea-7108-4b36-bb9e-b93cf69ad4ba",
   "metadata": {},
   "outputs": [
    {
     "data": {
      "text/html": [
       "<div>\n",
       "<style scoped>\n",
       "    .dataframe tbody tr th:only-of-type {\n",
       "        vertical-align: middle;\n",
       "    }\n",
       "\n",
       "    .dataframe tbody tr th {\n",
       "        vertical-align: top;\n",
       "    }\n",
       "\n",
       "    .dataframe thead th {\n",
       "        text-align: right;\n",
       "    }\n",
       "</style>\n",
       "<table border=\"1\" class=\"dataframe\">\n",
       "  <thead>\n",
       "    <tr style=\"text-align: right;\">\n",
       "      <th></th>\n",
       "      <th>id</th>\n",
       "      <th>mass</th>\n",
       "      <th>year</th>\n",
       "      <th>reclat</th>\n",
       "      <th>reclong</th>\n",
       "    </tr>\n",
       "  </thead>\n",
       "  <tbody>\n",
       "    <tr>\n",
       "      <th>count</th>\n",
       "      <td>45716.000000</td>\n",
       "      <td>4.558500e+04</td>\n",
       "      <td>45428.000000</td>\n",
       "      <td>38401.000000</td>\n",
       "      <td>38401.000000</td>\n",
       "    </tr>\n",
       "    <tr>\n",
       "      <th>mean</th>\n",
       "      <td>26889.735104</td>\n",
       "      <td>1.327808e+04</td>\n",
       "      <td>1991.772189</td>\n",
       "      <td>-39.122580</td>\n",
       "      <td>61.074319</td>\n",
       "    </tr>\n",
       "    <tr>\n",
       "      <th>std</th>\n",
       "      <td>16860.683030</td>\n",
       "      <td>5.749889e+05</td>\n",
       "      <td>27.181247</td>\n",
       "      <td>46.378511</td>\n",
       "      <td>80.647298</td>\n",
       "    </tr>\n",
       "    <tr>\n",
       "      <th>min</th>\n",
       "      <td>1.000000</td>\n",
       "      <td>0.000000e+00</td>\n",
       "      <td>301.000000</td>\n",
       "      <td>-87.366670</td>\n",
       "      <td>-165.433330</td>\n",
       "    </tr>\n",
       "    <tr>\n",
       "      <th>25%</th>\n",
       "      <td>12688.750000</td>\n",
       "      <td>7.200000e+00</td>\n",
       "      <td>1987.000000</td>\n",
       "      <td>-76.714240</td>\n",
       "      <td>0.000000</td>\n",
       "    </tr>\n",
       "    <tr>\n",
       "      <th>50%</th>\n",
       "      <td>24261.500000</td>\n",
       "      <td>3.260000e+01</td>\n",
       "      <td>1998.000000</td>\n",
       "      <td>-71.500000</td>\n",
       "      <td>35.666670</td>\n",
       "    </tr>\n",
       "    <tr>\n",
       "      <th>75%</th>\n",
       "      <td>40656.750000</td>\n",
       "      <td>2.026000e+02</td>\n",
       "      <td>2003.000000</td>\n",
       "      <td>0.000000</td>\n",
       "      <td>157.166670</td>\n",
       "    </tr>\n",
       "    <tr>\n",
       "      <th>max</th>\n",
       "      <td>57458.000000</td>\n",
       "      <td>6.000000e+07</td>\n",
       "      <td>2501.000000</td>\n",
       "      <td>81.166670</td>\n",
       "      <td>354.473330</td>\n",
       "    </tr>\n",
       "  </tbody>\n",
       "</table>\n",
       "</div>"
      ],
      "text/plain": [
       "                 id          mass          year        reclat       reclong\n",
       "count  45716.000000  4.558500e+04  45428.000000  38401.000000  38401.000000\n",
       "mean   26889.735104  1.327808e+04   1991.772189    -39.122580     61.074319\n",
       "std    16860.683030  5.749889e+05     27.181247     46.378511     80.647298\n",
       "min        1.000000  0.000000e+00    301.000000    -87.366670   -165.433330\n",
       "25%    12688.750000  7.200000e+00   1987.000000    -76.714240      0.000000\n",
       "50%    24261.500000  3.260000e+01   1998.000000    -71.500000     35.666670\n",
       "75%    40656.750000  2.026000e+02   2003.000000      0.000000    157.166670\n",
       "max    57458.000000  6.000000e+07   2501.000000     81.166670    354.473330"
      ]
     },
     "execution_count": 5,
     "metadata": {},
     "output_type": "execute_result"
    }
   ],
   "source": [
    "data.describe()\n"
   ]
  },
  {
   "cell_type": "markdown",
   "id": "6d4866b0-41ea-43a5-a094-07eeb237ce48",
   "metadata": {},
   "source": [
    "<h4><em>Диаграмма зависимости признаков друг от друга:</em></h4>"
   ]
  },
  {
   "cell_type": "code",
   "execution_count": 6,
   "id": "9991aba1-bcd6-4622-96ff-7710deae736e",
   "metadata": {},
   "outputs": [
    {
     "data": {
      "image/png": "[encoded data removed]",
      "text/plain": [
       "<Figure size 720x720 with 25 Axes>"
      ]
     },
     "metadata": {
      "needs_background": "light"
     },
     "output_type": "display_data"
    }
   ],
   "source": [
    "from pandas.plotting import scatter_matrix\n",
    "scatter_matrix(data, alpha = .8,marker='.', color='green', s=30 ,figsize = (10, 10))\n",
    "pass\n"
   ]
  },
  {
   "cell_type": "markdown",
   "id": "cc262f7a-adaa-4b7a-98f6-5421534bf770",
   "metadata": {},
   "source": [
    "<h4><em>Построим заивисимость reclat от reclong:</em></h4>"
   ]
  },
  {
   "cell_type": "code",
   "execution_count": 7,
   "id": "76d26ec5-633f-47c0-9af2-3485e2c6c91d",
   "metadata": {},
   "outputs": [
    {
     "data": {
      "image/png": "[encoded data removed]",
      "text/plain": [
       "<Figure size 432x288 with 1 Axes>"
      ]
     },
     "metadata": {
      "needs_background": "light"
     },
     "output_type": "display_data"
    }
   ],
   "source": [
    "plt.scatter(data['reclong'], data['reclat'], alpha=0.8, color='brown', s = 50)\n",
    "pass"
   ]
  },
  {
   "cell_type": "markdown",
   "id": "a6c2ab7c-818b-4c4b-b6d3-0973038af13e",
   "metadata": {},
   "source": [
    "<em>Этот график позволяет примерно понять в каких местах чаще находили метеориты.</em>"
   ]
  },
  {
   "cell_type": "markdown",
   "id": "7a2659b9-8680-47ab-9a62-fc0704f4c003",
   "metadata": {},
   "source": [
    "<h4><em>Построим зависимость year от mass:</em></h4>"
   ]
  },
  {
   "cell_type": "code",
   "execution_count": 8,
   "id": "a040bcd1-1c3f-4dd4-8720-295cb6568796",
   "metadata": {},
   "outputs": [
    {
     "data": {
      "image/png": "[encoded data removed]",
      "text/plain": [
       "<Figure size 432x288 with 1 Axes>"
      ]
     },
     "metadata": {
      "needs_background": "light"
     },
     "output_type": "display_data"
    }
   ],
   "source": [
    "plt.scatter(data['year'], data['mass'],alpha=0.8, s = 50)\n",
    "pass"
   ]
  },
  {
   "cell_type": "markdown",
   "id": "eb9e7799-9a76-4f08-b6e3-3f1e174c2c56",
   "metadata": {},
   "source": [
    "<h4><em>Построим матрицу корреляции</em></h4>"
   ]
  },
  {
   "cell_type": "code",
   "execution_count": 9,
   "id": "29ab38c5-ab2f-4269-8b1d-744d871f6643",
   "metadata": {},
   "outputs": [
    {
     "data": {
      "text/html": [
       "<div>\n",
       "<style scoped>\n",
       "    .dataframe tbody tr th:only-of-type {\n",
       "        vertical-align: middle;\n",
       "    }\n",
       "\n",
       "    .dataframe tbody tr th {\n",
       "        vertical-align: top;\n",
       "    }\n",
       "\n",
       "    .dataframe thead th {\n",
       "        text-align: right;\n",
       "    }\n",
       "</style>\n",
       "<table border=\"1\" class=\"dataframe\">\n",
       "  <thead>\n",
       "    <tr style=\"text-align: right;\">\n",
       "      <th></th>\n",
       "      <th>id</th>\n",
       "      <th>mass</th>\n",
       "      <th>year</th>\n",
       "      <th>reclat</th>\n",
       "      <th>reclong</th>\n",
       "    </tr>\n",
       "  </thead>\n",
       "  <tbody>\n",
       "    <tr>\n",
       "      <th>id</th>\n",
       "      <td>1.000000</td>\n",
       "      <td>-0.018911</td>\n",
       "      <td>0.330700</td>\n",
       "      <td>0.271095</td>\n",
       "      <td>-0.333863</td>\n",
       "    </tr>\n",
       "    <tr>\n",
       "      <th>mass</th>\n",
       "      <td>-0.018911</td>\n",
       "      <td>1.000000</td>\n",
       "      <td>-0.116569</td>\n",
       "      <td>0.029087</td>\n",
       "      <td>-0.021860</td>\n",
       "    </tr>\n",
       "    <tr>\n",
       "      <th>year</th>\n",
       "      <td>0.330700</td>\n",
       "      <td>-0.116569</td>\n",
       "      <td>1.000000</td>\n",
       "      <td>-0.105277</td>\n",
       "      <td>0.085706</td>\n",
       "    </tr>\n",
       "    <tr>\n",
       "      <th>reclat</th>\n",
       "      <td>0.271095</td>\n",
       "      <td>0.029087</td>\n",
       "      <td>-0.105277</td>\n",
       "      <td>1.000000</td>\n",
       "      <td>-0.591539</td>\n",
       "    </tr>\n",
       "    <tr>\n",
       "      <th>reclong</th>\n",
       "      <td>-0.333863</td>\n",
       "      <td>-0.021860</td>\n",
       "      <td>0.085706</td>\n",
       "      <td>-0.591539</td>\n",
       "      <td>1.000000</td>\n",
       "    </tr>\n",
       "  </tbody>\n",
       "</table>\n",
       "</div>"
      ],
      "text/plain": [
       "               id      mass      year    reclat   reclong\n",
       "id       1.000000 -0.018911  0.330700  0.271095 -0.333863\n",
       "mass    -0.018911  1.000000 -0.116569  0.029087 -0.021860\n",
       "year     0.330700 -0.116569  1.000000 -0.105277  0.085706\n",
       "reclat   0.271095  0.029087 -0.105277  1.000000 -0.591539\n",
       "reclong -0.333863 -0.021860  0.085706 -0.591539  1.000000"
      ]
     },
     "execution_count": 9,
     "metadata": {},
     "output_type": "execute_result"
    }
   ],
   "source": [
    "data.corr()"
   ]
  },
  {
   "cell_type": "markdown",
   "id": "6038a5db-c0e8-484c-8d33-101ba8b65265",
   "metadata": {},
   "source": [
    "<em>Представим ее в более удобном для восприятия формате:</em>"
   ]
  },
  {
   "cell_type": "code",
   "execution_count": 10,
   "id": "b9667591-a600-4528-a7ec-6a11b4456d37",
   "metadata": {},
   "outputs": [
    {
     "data": {
      "image/png": "[encoded data removed]",
      "text/plain": [
       "<Figure size 432x288 with 2 Axes>"
      ]
     },
     "metadata": {
      "needs_background": "light"
     },
     "output_type": "display_data"
    }
   ],
   "source": [
    "sns.heatmap(data.corr(), annot = True, square=True, vmin=-1, vmax=1,cmap='coolwarm')\n",
    "pass"
   ]
  },
  {
   "cell_type": "markdown",
   "id": "363b92cc-a4af-4a8d-805e-7ad781d70b27",
   "metadata": {},
   "source": [
    "<em>Чем светлее ячейка, тем больше по абсолютной величине коэффициент корреляции. Следовательно, нет сильно коррелирующих признаков.<em>"
   ]
  },
  {
   "cell_type": "markdown",
   "id": "624432a3-b1cb-4574-ae01-d4408f40cc85",
   "metadata": {},
   "source": [
    "<div class=\"alert alert-block alert-info\">\n",
    "<b>Обработка выбросов</b></div>\n"
   ]
  },
  {
   "cell_type": "markdown",
   "id": "ad385655-58c9-486d-9a75-0e3860195e6d",
   "metadata": {},
   "source": [
    "<h4><em>Рассмотрим столбцы reclong и reclat.</em></h4>"
   ]
  },
  {
   "cell_type": "code",
   "execution_count": 63,
   "id": "780a5f54-46a5-47f5-9a35-191cf486668d",
   "metadata": {},
   "outputs": [
    {
     "name": "stderr",
     "output_type": "stream",
     "text": [
      "c:\\users\\netwe\\appdata\\local\\programs\\python\\python38-32\\lib\\site-packages\\seaborn\\distributions.py:2619: FutureWarning: `distplot` is a deprecated function and will be removed in a future version. Please adapt your code to use either `displot` (a figure-level function with similar flexibility) or `histplot` (an axes-level function for histograms).\n",
      "  warnings.warn(msg, FutureWarning)\n"
     ]
    },
    {
     "data": {
      "image/png": "[encoded data removed]",
      "text/plain": [
       "<Figure size 432x288 with 1 Axes>"
      ]
     },
     "metadata": {
      "needs_background": "light"
     },
     "output_type": "display_data"
    }
   ],
   "source": [
    "sns.distplot(data['reclong'], color='green',bins = 10)\n",
    "pass"
   ]
  },
  {
   "cell_type": "code",
   "execution_count": 64,
   "id": "81518ba7-4ded-4bd0-b46f-8730b542c794",
   "metadata": {},
   "outputs": [
    {
     "name": "stderr",
     "output_type": "stream",
     "text": [
      "c:\\users\\netwe\\appdata\\local\\programs\\python\\python38-32\\lib\\site-packages\\seaborn\\distributions.py:2619: FutureWarning: `distplot` is a deprecated function and will be removed in a future version. Please adapt your code to use either `displot` (a figure-level function with similar flexibility) or `histplot` (an axes-level function for histograms).\n",
      "  warnings.warn(msg, FutureWarning)\n"
     ]
    },
    {
     "data": {
      "image/png": "[encoded data removed]",
      "text/plain": [
       "<Figure size 432x288 with 1 Axes>"
      ]
     },
     "metadata": {
      "needs_background": "light"
     },
     "output_type": "display_data"
    }
   ],
   "source": [
    "sns.distplot(data['reclat'], color='lime', bins = 10)\n",
    "pass"
   ]
  },
  {
   "cell_type": "markdown",
   "id": "15ed1c9c-b240-4965-9f56-3b32657e4e9a",
   "metadata": {},
   "source": [
    "<em>Видно, что имеется немного значений больше 180 в reclong, что не соответсвует реальности. Уберем их:</em>"
   ]
  },
  {
   "cell_type": "code",
   "execution_count": 13,
   "id": "90565f1d-1c24-4ae4-8667-d0b057ae594e",
   "metadata": {},
   "outputs": [
    {
     "data": {
      "text/plain": [
       "(45715, 10)"
      ]
     },
     "execution_count": 13,
     "metadata": {},
     "output_type": "execute_result"
    }
   ],
   "source": [
    "rows_to_drop = data[\n",
    "    (data['reclong'] < -180) | (data['reclong'] > 180)].index\n",
    "data = data.drop(rows_to_drop)\n",
    "data.shape"
   ]
  },
  {
   "cell_type": "markdown",
   "id": "7f5b20c7-1536-4303-919f-6f7105904792",
   "metadata": {},
   "source": [
    "<h4><em>Рассмотрим столбец year.</em></h4>"
   ]
  },
  {
   "cell_type": "code",
   "execution_count": 65,
   "id": "a94c6b51-3ed3-4eb6-8bae-65f7718a5d56",
   "metadata": {},
   "outputs": [
    {
     "name": "stderr",
     "output_type": "stream",
     "text": [
      "c:\\users\\netwe\\appdata\\local\\programs\\python\\python38-32\\lib\\site-packages\\seaborn\\distributions.py:2619: FutureWarning: `distplot` is a deprecated function and will be removed in a future version. Please adapt your code to use either `displot` (a figure-level function with similar flexibility) or `histplot` (an axes-level function for histograms).\n",
      "  warnings.warn(msg, FutureWarning)\n"
     ]
    },
    {
     "data": {
      "image/png": "[encoded data removed]",
      "text/plain": [
       "<Figure size 432x288 with 1 Axes>"
      ]
     },
     "metadata": {
      "needs_background": "light"
     },
     "output_type": "display_data"
    }
   ],
   "source": [
    "sns.distplot(data['year'],color='blue', bins = 10)\n",
    "pass"
   ]
  },
  {
   "cell_type": "markdown",
   "id": "5b42306d-17c2-49db-82f0-d557968cc47c",
   "metadata": {},
   "source": [
    "<em>Также избавимся от значений >2021 года:</em>"
   ]
  },
  {
   "cell_type": "code",
   "execution_count": 15,
   "id": "8d7877f1-1d44-4560-b419-9126ca4fcc86",
   "metadata": {},
   "outputs": [
    {
     "data": {
      "text/plain": [
       "(45713, 10)"
      ]
     },
     "execution_count": 15,
     "metadata": {},
     "output_type": "execute_result"
    }
   ],
   "source": [
    "rows_to_drop = data[\n",
    "    (data['year'] > 2021)].index\n",
    "data = data.drop(rows_to_drop)\n",
    "data.shape"
   ]
  },
  {
   "cell_type": "markdown",
   "id": "7f34597c-da9b-4dba-81ce-5542b541fee6",
   "metadata": {},
   "source": [
    "<div class=\"alert alert-block alert-info\">\n",
    "<b>Обработка пропущенных значений</b></div>"
   ]
  },
  {
   "cell_type": "code",
   "execution_count": 16,
   "id": "32b85db7-64fb-4996-b4c0-d95e50b2bf2f",
   "metadata": {},
   "outputs": [
    {
     "data": {
      "text/html": [
       "<div>\n",
       "<style scoped>\n",
       "    .dataframe tbody tr th:only-of-type {\n",
       "        vertical-align: middle;\n",
       "    }\n",
       "\n",
       "    .dataframe tbody tr th {\n",
       "        vertical-align: top;\n",
       "    }\n",
       "\n",
       "    .dataframe thead th {\n",
       "        text-align: right;\n",
       "    }\n",
       "</style>\n",
       "<table border=\"1\" class=\"dataframe\">\n",
       "  <thead>\n",
       "    <tr style=\"text-align: right;\">\n",
       "      <th></th>\n",
       "      <th>name</th>\n",
       "      <th>id</th>\n",
       "      <th>nametype</th>\n",
       "      <th>recclass</th>\n",
       "      <th>mass</th>\n",
       "      <th>fall</th>\n",
       "      <th>year</th>\n",
       "      <th>reclat</th>\n",
       "      <th>reclong</th>\n",
       "      <th>GeoLocation</th>\n",
       "    </tr>\n",
       "  </thead>\n",
       "  <tbody>\n",
       "    <tr>\n",
       "      <th>0</th>\n",
       "      <td>Aachen</td>\n",
       "      <td>1</td>\n",
       "      <td>Valid</td>\n",
       "      <td>L5</td>\n",
       "      <td>21.0</td>\n",
       "      <td>Fell</td>\n",
       "      <td>1880.0</td>\n",
       "      <td>50.77500</td>\n",
       "      <td>6.08333</td>\n",
       "      <td>(50.775000, 6.083330)</td>\n",
       "    </tr>\n",
       "    <tr>\n",
       "      <th>1</th>\n",
       "      <td>Aarhus</td>\n",
       "      <td>2</td>\n",
       "      <td>Valid</td>\n",
       "      <td>H6</td>\n",
       "      <td>720.0</td>\n",
       "      <td>Fell</td>\n",
       "      <td>1951.0</td>\n",
       "      <td>56.18333</td>\n",
       "      <td>10.23333</td>\n",
       "      <td>(56.183330, 10.233330)</td>\n",
       "    </tr>\n",
       "    <tr>\n",
       "      <th>2</th>\n",
       "      <td>Abee</td>\n",
       "      <td>6</td>\n",
       "      <td>Valid</td>\n",
       "      <td>EH4</td>\n",
       "      <td>107000.0</td>\n",
       "      <td>Fell</td>\n",
       "      <td>1952.0</td>\n",
       "      <td>54.21667</td>\n",
       "      <td>-113.00000</td>\n",
       "      <td>(54.216670, -113.000000)</td>\n",
       "    </tr>\n",
       "    <tr>\n",
       "      <th>3</th>\n",
       "      <td>Acapulco</td>\n",
       "      <td>10</td>\n",
       "      <td>Valid</td>\n",
       "      <td>Acapulcoite</td>\n",
       "      <td>1914.0</td>\n",
       "      <td>Fell</td>\n",
       "      <td>1976.0</td>\n",
       "      <td>16.88333</td>\n",
       "      <td>-99.90000</td>\n",
       "      <td>(16.883330, -99.900000)</td>\n",
       "    </tr>\n",
       "    <tr>\n",
       "      <th>4</th>\n",
       "      <td>Achiras</td>\n",
       "      <td>370</td>\n",
       "      <td>Valid</td>\n",
       "      <td>L6</td>\n",
       "      <td>780.0</td>\n",
       "      <td>Fell</td>\n",
       "      <td>1902.0</td>\n",
       "      <td>-33.16667</td>\n",
       "      <td>-64.95000</td>\n",
       "      <td>(-33.166670, -64.950000)</td>\n",
       "    </tr>\n",
       "    <tr>\n",
       "      <th>...</th>\n",
       "      <td>...</td>\n",
       "      <td>...</td>\n",
       "      <td>...</td>\n",
       "      <td>...</td>\n",
       "      <td>...</td>\n",
       "      <td>...</td>\n",
       "      <td>...</td>\n",
       "      <td>...</td>\n",
       "      <td>...</td>\n",
       "      <td>...</td>\n",
       "    </tr>\n",
       "    <tr>\n",
       "      <th>45711</th>\n",
       "      <td>Zillah 002</td>\n",
       "      <td>31356</td>\n",
       "      <td>Valid</td>\n",
       "      <td>Eucrite</td>\n",
       "      <td>172.0</td>\n",
       "      <td>Found</td>\n",
       "      <td>1990.0</td>\n",
       "      <td>29.03700</td>\n",
       "      <td>17.01850</td>\n",
       "      <td>(29.037000, 17.018500)</td>\n",
       "    </tr>\n",
       "    <tr>\n",
       "      <th>45712</th>\n",
       "      <td>Zinder</td>\n",
       "      <td>30409</td>\n",
       "      <td>Valid</td>\n",
       "      <td>Pallasite, ungrouped</td>\n",
       "      <td>46.0</td>\n",
       "      <td>Found</td>\n",
       "      <td>1999.0</td>\n",
       "      <td>13.78333</td>\n",
       "      <td>8.96667</td>\n",
       "      <td>(13.783330, 8.966670)</td>\n",
       "    </tr>\n",
       "    <tr>\n",
       "      <th>45713</th>\n",
       "      <td>Zlin</td>\n",
       "      <td>30410</td>\n",
       "      <td>Valid</td>\n",
       "      <td>H4</td>\n",
       "      <td>3.3</td>\n",
       "      <td>Found</td>\n",
       "      <td>1939.0</td>\n",
       "      <td>49.25000</td>\n",
       "      <td>17.66667</td>\n",
       "      <td>(49.250000, 17.666670)</td>\n",
       "    </tr>\n",
       "    <tr>\n",
       "      <th>45714</th>\n",
       "      <td>Zubkovsky</td>\n",
       "      <td>31357</td>\n",
       "      <td>Valid</td>\n",
       "      <td>L6</td>\n",
       "      <td>2167.0</td>\n",
       "      <td>Found</td>\n",
       "      <td>2003.0</td>\n",
       "      <td>49.78917</td>\n",
       "      <td>41.50460</td>\n",
       "      <td>(49.789170, 41.504600)</td>\n",
       "    </tr>\n",
       "    <tr>\n",
       "      <th>45715</th>\n",
       "      <td>Zulu Queen</td>\n",
       "      <td>30414</td>\n",
       "      <td>Valid</td>\n",
       "      <td>L3.7</td>\n",
       "      <td>200.0</td>\n",
       "      <td>Found</td>\n",
       "      <td>1976.0</td>\n",
       "      <td>33.98333</td>\n",
       "      <td>-115.68333</td>\n",
       "      <td>(33.983330, -115.683330)</td>\n",
       "    </tr>\n",
       "  </tbody>\n",
       "</table>\n",
       "<p>45713 rows × 10 columns</p>\n",
       "</div>"
      ],
      "text/plain": [
       "             name     id nametype              recclass      mass   fall  \\\n",
       "0          Aachen      1    Valid                    L5      21.0   Fell   \n",
       "1          Aarhus      2    Valid                    H6     720.0   Fell   \n",
       "2            Abee      6    Valid                   EH4  107000.0   Fell   \n",
       "3        Acapulco     10    Valid           Acapulcoite    1914.0   Fell   \n",
       "4         Achiras    370    Valid                    L6     780.0   Fell   \n",
       "...           ...    ...      ...                   ...       ...    ...   \n",
       "45711  Zillah 002  31356    Valid               Eucrite     172.0  Found   \n",
       "45712      Zinder  30409    Valid  Pallasite, ungrouped      46.0  Found   \n",
       "45713        Zlin  30410    Valid                    H4       3.3  Found   \n",
       "45714   Zubkovsky  31357    Valid                    L6    2167.0  Found   \n",
       "45715  Zulu Queen  30414    Valid                  L3.7     200.0  Found   \n",
       "\n",
       "         year    reclat    reclong               GeoLocation  \n",
       "0      1880.0  50.77500    6.08333     (50.775000, 6.083330)  \n",
       "1      1951.0  56.18333   10.23333    (56.183330, 10.233330)  \n",
       "2      1952.0  54.21667 -113.00000  (54.216670, -113.000000)  \n",
       "3      1976.0  16.88333  -99.90000   (16.883330, -99.900000)  \n",
       "4      1902.0 -33.16667  -64.95000  (-33.166670, -64.950000)  \n",
       "...       ...       ...        ...                       ...  \n",
       "45711  1990.0  29.03700   17.01850    (29.037000, 17.018500)  \n",
       "45712  1999.0  13.78333    8.96667     (13.783330, 8.966670)  \n",
       "45713  1939.0  49.25000   17.66667    (49.250000, 17.666670)  \n",
       "45714  2003.0  49.78917   41.50460    (49.789170, 41.504600)  \n",
       "45715  1976.0  33.98333 -115.68333  (33.983330, -115.683330)  \n",
       "\n",
       "[45713 rows x 10 columns]"
      ]
     },
     "execution_count": 16,
     "metadata": {},
     "output_type": "execute_result"
    }
   ],
   "source": [
    "data"
   ]
  },
  {
   "cell_type": "markdown",
   "id": "a00037ae-88f3-4cfb-80bb-5bb873ee4a3b",
   "metadata": {},
   "source": [
    "<em>Удалим строки, содержащие пустые значения:</em>"
   ]
  },
  {
   "cell_type": "code",
   "execution_count": 17,
   "id": "d58564ab-5e06-44d0-9e8a-be00092a41f7",
   "metadata": {},
   "outputs": [
    {
     "data": {
      "text/html": [
       "<div>\n",
       "<style scoped>\n",
       "    .dataframe tbody tr th:only-of-type {\n",
       "        vertical-align: middle;\n",
       "    }\n",
       "\n",
       "    .dataframe tbody tr th {\n",
       "        vertical-align: top;\n",
       "    }\n",
       "\n",
       "    .dataframe thead th {\n",
       "        text-align: right;\n",
       "    }\n",
       "</style>\n",
       "<table border=\"1\" class=\"dataframe\">\n",
       "  <thead>\n",
       "    <tr style=\"text-align: right;\">\n",
       "      <th></th>\n",
       "      <th>name</th>\n",
       "      <th>id</th>\n",
       "      <th>nametype</th>\n",
       "      <th>recclass</th>\n",
       "      <th>mass</th>\n",
       "      <th>fall</th>\n",
       "      <th>year</th>\n",
       "      <th>reclat</th>\n",
       "      <th>reclong</th>\n",
       "      <th>GeoLocation</th>\n",
       "    </tr>\n",
       "  </thead>\n",
       "  <tbody>\n",
       "    <tr>\n",
       "      <th>0</th>\n",
       "      <td>Aachen</td>\n",
       "      <td>1</td>\n",
       "      <td>Valid</td>\n",
       "      <td>L5</td>\n",
       "      <td>21.0</td>\n",
       "      <td>Fell</td>\n",
       "      <td>1880.0</td>\n",
       "      <td>50.77500</td>\n",
       "      <td>6.08333</td>\n",
       "      <td>(50.775000, 6.083330)</td>\n",
       "    </tr>\n",
       "    <tr>\n",
       "      <th>1</th>\n",
       "      <td>Aarhus</td>\n",
       "      <td>2</td>\n",
       "      <td>Valid</td>\n",
       "      <td>H6</td>\n",
       "      <td>720.0</td>\n",
       "      <td>Fell</td>\n",
       "      <td>1951.0</td>\n",
       "      <td>56.18333</td>\n",
       "      <td>10.23333</td>\n",
       "      <td>(56.183330, 10.233330)</td>\n",
       "    </tr>\n",
       "    <tr>\n",
       "      <th>2</th>\n",
       "      <td>Abee</td>\n",
       "      <td>6</td>\n",
       "      <td>Valid</td>\n",
       "      <td>EH4</td>\n",
       "      <td>107000.0</td>\n",
       "      <td>Fell</td>\n",
       "      <td>1952.0</td>\n",
       "      <td>54.21667</td>\n",
       "      <td>-113.00000</td>\n",
       "      <td>(54.216670, -113.000000)</td>\n",
       "    </tr>\n",
       "    <tr>\n",
       "      <th>3</th>\n",
       "      <td>Acapulco</td>\n",
       "      <td>10</td>\n",
       "      <td>Valid</td>\n",
       "      <td>Acapulcoite</td>\n",
       "      <td>1914.0</td>\n",
       "      <td>Fell</td>\n",
       "      <td>1976.0</td>\n",
       "      <td>16.88333</td>\n",
       "      <td>-99.90000</td>\n",
       "      <td>(16.883330, -99.900000)</td>\n",
       "    </tr>\n",
       "    <tr>\n",
       "      <th>4</th>\n",
       "      <td>Achiras</td>\n",
       "      <td>370</td>\n",
       "      <td>Valid</td>\n",
       "      <td>L6</td>\n",
       "      <td>780.0</td>\n",
       "      <td>Fell</td>\n",
       "      <td>1902.0</td>\n",
       "      <td>-33.16667</td>\n",
       "      <td>-64.95000</td>\n",
       "      <td>(-33.166670, -64.950000)</td>\n",
       "    </tr>\n",
       "    <tr>\n",
       "      <th>...</th>\n",
       "      <td>...</td>\n",
       "      <td>...</td>\n",
       "      <td>...</td>\n",
       "      <td>...</td>\n",
       "      <td>...</td>\n",
       "      <td>...</td>\n",
       "      <td>...</td>\n",
       "      <td>...</td>\n",
       "      <td>...</td>\n",
       "      <td>...</td>\n",
       "    </tr>\n",
       "    <tr>\n",
       "      <th>45711</th>\n",
       "      <td>Zillah 002</td>\n",
       "      <td>31356</td>\n",
       "      <td>Valid</td>\n",
       "      <td>Eucrite</td>\n",
       "      <td>172.0</td>\n",
       "      <td>Found</td>\n",
       "      <td>1990.0</td>\n",
       "      <td>29.03700</td>\n",
       "      <td>17.01850</td>\n",
       "      <td>(29.037000, 17.018500)</td>\n",
       "    </tr>\n",
       "    <tr>\n",
       "      <th>45712</th>\n",
       "      <td>Zinder</td>\n",
       "      <td>30409</td>\n",
       "      <td>Valid</td>\n",
       "      <td>Pallasite, ungrouped</td>\n",
       "      <td>46.0</td>\n",
       "      <td>Found</td>\n",
       "      <td>1999.0</td>\n",
       "      <td>13.78333</td>\n",
       "      <td>8.96667</td>\n",
       "      <td>(13.783330, 8.966670)</td>\n",
       "    </tr>\n",
       "    <tr>\n",
       "      <th>45713</th>\n",
       "      <td>Zlin</td>\n",
       "      <td>30410</td>\n",
       "      <td>Valid</td>\n",
       "      <td>H4</td>\n",
       "      <td>3.3</td>\n",
       "      <td>Found</td>\n",
       "      <td>1939.0</td>\n",
       "      <td>49.25000</td>\n",
       "      <td>17.66667</td>\n",
       "      <td>(49.250000, 17.666670)</td>\n",
       "    </tr>\n",
       "    <tr>\n",
       "      <th>45714</th>\n",
       "      <td>Zubkovsky</td>\n",
       "      <td>31357</td>\n",
       "      <td>Valid</td>\n",
       "      <td>L6</td>\n",
       "      <td>2167.0</td>\n",
       "      <td>Found</td>\n",
       "      <td>2003.0</td>\n",
       "      <td>49.78917</td>\n",
       "      <td>41.50460</td>\n",
       "      <td>(49.789170, 41.504600)</td>\n",
       "    </tr>\n",
       "    <tr>\n",
       "      <th>45715</th>\n",
       "      <td>Zulu Queen</td>\n",
       "      <td>30414</td>\n",
       "      <td>Valid</td>\n",
       "      <td>L3.7</td>\n",
       "      <td>200.0</td>\n",
       "      <td>Found</td>\n",
       "      <td>1976.0</td>\n",
       "      <td>33.98333</td>\n",
       "      <td>-115.68333</td>\n",
       "      <td>(33.983330, -115.683330)</td>\n",
       "    </tr>\n",
       "  </tbody>\n",
       "</table>\n",
       "<p>38115 rows × 10 columns</p>\n",
       "</div>"
      ],
      "text/plain": [
       "             name     id nametype              recclass      mass   fall  \\\n",
       "0          Aachen      1    Valid                    L5      21.0   Fell   \n",
       "1          Aarhus      2    Valid                    H6     720.0   Fell   \n",
       "2            Abee      6    Valid                   EH4  107000.0   Fell   \n",
       "3        Acapulco     10    Valid           Acapulcoite    1914.0   Fell   \n",
       "4         Achiras    370    Valid                    L6     780.0   Fell   \n",
       "...           ...    ...      ...                   ...       ...    ...   \n",
       "45711  Zillah 002  31356    Valid               Eucrite     172.0  Found   \n",
       "45712      Zinder  30409    Valid  Pallasite, ungrouped      46.0  Found   \n",
       "45713        Zlin  30410    Valid                    H4       3.3  Found   \n",
       "45714   Zubkovsky  31357    Valid                    L6    2167.0  Found   \n",
       "45715  Zulu Queen  30414    Valid                  L3.7     200.0  Found   \n",
       "\n",
       "         year    reclat    reclong               GeoLocation  \n",
       "0      1880.0  50.77500    6.08333     (50.775000, 6.083330)  \n",
       "1      1951.0  56.18333   10.23333    (56.183330, 10.233330)  \n",
       "2      1952.0  54.21667 -113.00000  (54.216670, -113.000000)  \n",
       "3      1976.0  16.88333  -99.90000   (16.883330, -99.900000)  \n",
       "4      1902.0 -33.16667  -64.95000  (-33.166670, -64.950000)  \n",
       "...       ...       ...        ...                       ...  \n",
       "45711  1990.0  29.03700   17.01850    (29.037000, 17.018500)  \n",
       "45712  1999.0  13.78333    8.96667     (13.783330, 8.966670)  \n",
       "45713  1939.0  49.25000   17.66667    (49.250000, 17.666670)  \n",
       "45714  2003.0  49.78917   41.50460    (49.789170, 41.504600)  \n",
       "45715  1976.0  33.98333 -115.68333  (33.983330, -115.683330)  \n",
       "\n",
       "[38115 rows x 10 columns]"
      ]
     },
     "execution_count": 17,
     "metadata": {},
     "output_type": "execute_result"
    }
   ],
   "source": [
    "data.dropna(axis = 0)\n"
   ]
  },
  {
   "cell_type": "markdown",
   "id": "14e1842a-c2d0-45fd-ba3d-25b2c5ba2565",
   "metadata": {},
   "source": [
    "<em>45713-38115 = 7598 строк, содержат пустые значения.</em>\n"
   ]
  },
  {
   "cell_type": "markdown",
   "id": "f82303a2-3ba8-4847-abbb-c7f0a1245df7",
   "metadata": {},
   "source": [
    "<em>Разделим столбцы, содержащие категориальные и числовые признаки:</em>"
   ]
  },
  {
   "cell_type": "code",
   "execution_count": 18,
   "id": "de9e90e4-1101-44cf-bd4a-a479e6ee451b",
   "metadata": {},
   "outputs": [
    {
     "name": "stdout",
     "output_type": "stream",
     "text": [
      "['name', 'nametype', 'recclass', 'fall', 'GeoLocation']\n",
      "['id', 'mass', 'year', 'reclat', 'reclong']\n"
     ]
    }
   ],
   "source": [
    "categorical_columns = [c for c in data.columns if data[c].dtype.name == 'object']\n",
    "numerical_columns   = [c for c in data.columns if data[c].dtype.name != 'object']\n",
    "print(categorical_columns)\n",
    "print(numerical_columns)"
   ]
  },
  {
   "cell_type": "code",
   "execution_count": 19,
   "id": "a9e20e6e-903a-44b3-b900-d5a8171cde93",
   "metadata": {},
   "outputs": [
    {
     "name": "stdout",
     "output_type": "stream",
     "text": [
      "name ['Aachen' 'Aarhus' 'Abee' ... 'Zlin' 'Zubkovsky' 'Zulu Queen']\n",
      "nametype ['Valid' 'Relict']\n",
      "recclass ['L5' 'H6' 'EH4' 'Acapulcoite' 'L6' 'LL3-6' 'H5' 'L' 'Diogenite-pm'\n",
      " 'Unknown' 'H4' 'H' 'Iron, IVA' 'CR2-an' 'LL5' 'CI1' 'L/LL4'\n",
      " 'Eucrite-mmict' 'CV3' 'Ureilite-an' 'Stone-uncl' 'L3' 'Angrite' 'LL6'\n",
      " 'L4' 'Aubrite' 'Iron, IIAB' 'Iron, IAB-sLL' 'Iron, ungrouped' 'CM2' 'OC'\n",
      " 'Mesosiderite-A1' 'LL4' 'C2-ung' 'LL3.8' 'Howardite' 'Eucrite-pmict'\n",
      " 'Diogenite' 'LL3.15' 'LL3.9' 'Iron, IAB-MG' 'H/L3.9' 'Iron?' 'Eucrite'\n",
      " 'H4-an' 'L/LL6' 'Iron, IIIAB' 'H/L4' 'H4-5' 'L3.7' 'LL3.4'\n",
      " 'Martian (chassignite)' 'EL6' 'H3.8' 'H3-5' 'H5-6' 'Mesosiderite' 'H5-7'\n",
      " 'L3-6' 'H4-6' 'Ureilite' 'Iron, IID' 'Mesosiderite-A3/4' 'CO3.3' 'H3'\n",
      " 'EH3/4-an' 'Iron, IIE' 'L/LL5' 'H3.7' 'CBa' 'H4/5' 'H3/4' 'H?' 'H3-6'\n",
      " 'L3.4' 'Iron, IAB-sHL' 'L3.7-6' 'EH7-an' 'Iron' 'CR2' 'CO3.2' 'K3' 'L5/6'\n",
      " 'CK4' 'Iron, IIE-an' 'L3.6' 'LL3.2' 'CO3.5' 'Lodranite' 'Mesosiderite-A3'\n",
      " 'L3-4' 'H5/6' 'Pallasite, PMG' 'Eucrite-cm' 'Pallasite' 'L5-6' 'CO3.6'\n",
      " 'Martian (nakhlite)' 'LL3.6' 'C3-ung' 'H3-4' 'CO3.4' 'EH3'\n",
      " 'Iron, IAB-ung' 'Winonaite' 'LL' 'Eucrite-br' 'Iron, IIF' 'R3.8-6' 'L4-6'\n",
      " 'EH5' 'LL3.00' 'H3.4' 'Martian (shergottite)' 'Achondrite-ung' 'LL3.3'\n",
      " 'C' 'H/L3.6' 'Iron, IIIAB-an' 'LL7' 'Mesosiderite-B2' 'LL4-6' 'CO3.7'\n",
      " 'L/LL6-an' 'Iron, IAB complex' 'Pallasite, PMG-an' 'H3.9/4' 'L3.8'\n",
      " 'LL5-6' 'LL3.8-6' 'L3.9' 'L4-5' 'L3-5' 'LL4/5' 'L4/5' 'H3.9' 'H3.6-6'\n",
      " 'H3.8-5' 'H3.8/4' 'H3.9-5' 'CH3' 'R3.8-5' 'L3.9/4' 'E4' 'CO3'\n",
      " 'Chondrite-ung' 'H~5' 'H~6' 'L/LL3.10' 'EL5' 'LL3' 'L~6' 'L~3' 'H~4'\n",
      " 'L(LL)3.5-3.7' 'Iron, IIIE-an' 'H3.6' 'L3.4-3.7' 'L3.5' 'CM1/2'\n",
      " 'Martian (OPX)' 'Brachinite' 'LL7(?)' 'LL6(?)' 'Eucrite-Mg rich' 'H3.5-4'\n",
      " 'EL3' 'R3.6' 'H3.5' 'CM1' 'L/LL3' 'H7' 'L(?)3' 'L3.2' 'L3.7-3.9'\n",
      " 'Mesosiderite-B1' 'LL3.7' 'CO3.0' 'LL3.5' 'L3.7-4' 'Eucrite-unbr'\n",
      " 'CV3-an' 'Lunar (anorth)' 'L3.3' 'Iron, IAB-sLM' 'Lunar' 'Iron, IC'\n",
      " 'Iron, IID-an' 'Iron, IIIE' 'Iron, IVA-an' 'CK6' 'L3.1' 'CK5' 'H3.3'\n",
      " 'H3.7-6' 'E6' 'H3.0' 'H3.1' 'L3.0' 'L/LL3.4' 'C6' 'LL3.0'\n",
      " 'Lunar (gabbro)' 'R4' 'C4' 'Iron, IIG' 'Iron, IIC' 'C1-ung' 'H5-an'\n",
      " 'EH4/5' 'Iron, IIIF' 'R3-6' 'Mesosiderite-B4' 'L6/7' 'Relict H'\n",
      " 'L-imp melt' 'CK3' 'H3-an' 'Iron, IVB' 'R3.8' 'L~5' 'Mesosiderite-an'\n",
      " 'Mesosiderite-A2' 'Pallasite, PES' 'C4-ung' 'Iron, IAB?' 'Mesosiderite-A'\n",
      " 'R3.5-6' 'H3.9-6' 'Ureilite-pmict' 'LL~6' 'CK4/5' 'EL4'\n",
      " 'Lunar (feldsp. breccia)' 'L3.9-6' 'H-an' 'L/LL3-6' 'L/LL3-5' 'H/L3.5'\n",
      " 'H/L3' 'R3-4' 'CK3-an' 'LL4-5' 'H/L6' 'L3/4' 'H-imp melt' 'CR'\n",
      " 'Chondrite-fusion crust' 'Iron, IAB-sLH' 'H(L)3-an' 'L(LL)3' 'H(L)3' 'R3'\n",
      " 'L7' 'CM-an' 'L/LL~6' 'L/LL~5' 'L~4' 'L/LL~4' 'LL(L)3' 'H3.2'\n",
      " 'L-melt breccia' 'H6-melt breccia' 'H5-melt breccia' 'H-melt rock'\n",
      " 'Eucrite-an' 'Lunar (bas/anor)' 'LL5/6' 'LL3/4' 'H3.4/3.5'\n",
      " 'Lunar (basalt)' 'H/L5' 'H(5?)' 'LL-imp melt' 'Mesosiderite?' 'H~4/5'\n",
      " 'L6-melt breccia' 'L3.5-3.7' 'Iron, IIAB-an' 'L3.3-3.7' 'L3.2-3.6'\n",
      " 'L3.3-3.6' 'Acapulcoite/Lodranite' 'Mesosiderite-B' 'CK5/6' 'L3.05' 'C2'\n",
      " 'C4/5' 'L/LL3.2' 'Iron, IIIAB?' 'L3.5-5' 'L/LL(?)3' 'H4(?)'\n",
      " 'Iron, IAB-sHH' 'Relict iron' 'EL4/5' 'L5-7' 'Diogenite-an' 'CR1' 'H5 '\n",
      " 'L5 ' 'H4 ' 'L4 ' 'E' 'L6 ' 'H3 ' 'LL6 ' 'H-metal' 'H6 ' 'L-metal'\n",
      " 'Relict OC' 'EH' 'Mesosiderite-A4' 'L/LL5/6' 'H3.8-4' 'CBb' 'EL6/7' 'EL7'\n",
      " 'CH/CBb' 'CO3.8' 'H/L~4' 'Mesosiderite-C2' 'R5' 'H4/6' 'L-melt rock'\n",
      " 'H3.7-5' 'LL3.7-6' 'H3.7/3.8' 'L3.7/3.8' 'EH-imp melt' 'R' 'Fusion crust'\n",
      " 'Aubrite-an' 'R6' 'LL-melt rock' 'L3.5-3.9' 'L3.2-3.5' 'L3.3-3.5'\n",
      " 'L3.0-3.7' 'E3-an' 'K' 'E3' 'Acapulcoite/lodranite' 'CK4-an' 'L(LL)3.05'\n",
      " 'L3.10' 'CB' 'Diogenite-olivine' 'EL-melt rock' 'EH6'\n",
      " 'Pallasite, ungrouped' 'L/LL4/5' 'L3.8-an' 'Iron, IAB-an' 'C5/6-ung'\n",
      " 'CV2' 'Iron, IC-an' 'Lunar (bas. breccia)' 'L3.8-6' 'R3/4' 'R3.9' 'CK'\n",
      " 'LL3.10' 'R4/5' 'L3.8-5' 'Mesosiderite-C' 'Enst achon' 'H/L3-4' 'L(H)3'\n",
      " 'LL3.1' 'OC3' 'LL6/7' 'R3.7' 'CO3 ' 'CH3 ' 'LL~4' 'LL~4/5' 'L(LL)~4'\n",
      " 'H3.05' 'H3.10' 'Impact melt breccia' 'LL3-5' 'H/L3.7' 'Martian' 'CO3.1'\n",
      " 'Lunar (bas/gab brec)' 'Achondrite-prim' 'LL3-4' 'LL<3.5' 'CK3/4' 'CK3.8'\n",
      " 'L/LL-melt rock' 'H6/7' 'EL6 ' 'Iron, IAB-sHL-an' 'CM2-an' 'R3-5'\n",
      " 'L4-melt rock' 'L6-melt rock' 'H/L4/5' 'EL3/4' 'H/L6-melt rock'\n",
      " 'Enst achon-ung' 'L3-7' 'R3.4' 'LL3.05' 'LL4/6' 'LL3.8-4' 'H3.15'\n",
      " 'C3.0-ung' 'LL-melt breccia' 'LL6-melt breccia' 'L5-melt breccia'\n",
      " 'LL(L)3.1' 'LL6-an' 'L4-melt breccia' 'Howardite-an' 'H4-melt breccia'\n",
      " 'Martian (basaltic breccia)' 'L3-melt breccia' 'L~4-6' 'LL~5' 'R3.5-4'\n",
      " 'CR7' 'H-melt breccia' 'Lunar (norite)' 'L3.00' 'H3.0-3.4' 'L/LL4-6' 'CM'\n",
      " 'EH7' 'L4-an' 'E-an' 'H3.8/3.9' 'L3.9-5' 'H3.8-6' 'H3.4-5' 'L3.0-3.9'\n",
      " 'L3.5-3.8' 'H3.2-3.7' 'L3.6-4' 'Iron, IIE?' 'C3/4-ung' 'L/LL3.5'\n",
      " 'L/LL3.6/3.7' 'H/L4-5' 'LL~3' 'Pallasite?' 'LL5-7' 'LL3.9/4' 'H3.8-an'\n",
      " 'CR-an' 'L/LL5-6' 'L(LL)5' 'L(LL)6' 'LL3.1-3.5' 'E5' 'Lodranite-an'\n",
      " 'H3.2-6' 'H(?)4' 'E5-an' 'H3.2-an' 'EH6-an' 'Stone-ung' 'C1/2-ung' 'L/LL']\n",
      "fall ['Fell' 'Found']\n",
      "GeoLocation ['(50.775000, 6.083330)' '(56.183330, 10.233330)'\n",
      " '(54.216670, -113.000000)' ... '(49.250000, 17.666670)'\n",
      " '(49.789170, 41.504600)' '(33.983330, -115.683330)']\n"
     ]
    }
   ],
   "source": [
    "for c in categorical_columns:\n",
    "    print(c, data[c].unique())"
   ]
  },
  {
   "cell_type": "markdown",
   "id": "5b9d1723-1152-4d16-bc71-f90f66652c20",
   "metadata": {},
   "source": [
    "<em>Выберем средние значения по столбцам и заполним ими пропущенные в числовых признаках:</em>"
   ]
  },
  {
   "cell_type": "code",
   "execution_count": 20,
   "id": "47dec452-3f08-4a17-806e-49567b3cf6eb",
   "metadata": {},
   "outputs": [
    {
     "data": {
      "text/plain": [
       "id         24261.00000\n",
       "mass          32.60000\n",
       "year        1998.00000\n",
       "reclat       -71.50000\n",
       "reclong       35.66667\n",
       "dtype: float64"
      ]
     },
     "execution_count": 20,
     "metadata": {},
     "output_type": "execute_result"
    }
   ],
   "source": [
    "data.median(axis = 0, numeric_only=True)"
   ]
  },
  {
   "cell_type": "code",
   "execution_count": 21,
   "id": "dfee2c79-6b87-490f-b57e-ce84b37f082d",
   "metadata": {},
   "outputs": [],
   "source": [
    "data = data.fillna(data.median(axis = 0, numeric_only=True), axis = 0)"
   ]
  },
  {
   "cell_type": "code",
   "execution_count": 22,
   "id": "349d8054-5422-4673-9b83-6524d4380280",
   "metadata": {},
   "outputs": [
    {
     "data": {
      "text/plain": [
       "id         45713\n",
       "mass       45713\n",
       "year       45713\n",
       "reclat     45713\n",
       "reclong    45713\n",
       "dtype: int64"
      ]
     },
     "execution_count": 22,
     "metadata": {},
     "output_type": "execute_result"
    }
   ],
   "source": [
    "data[numerical_columns].count(axis = 0)"
   ]
  },
  {
   "cell_type": "markdown",
   "id": "e2fd1eed-21ca-409a-9196-1d1b099fc667",
   "metadata": {},
   "source": [
    "<em>Теперь в данных столбцах нет пропущенных значений.</em>"
   ]
  },
  {
   "cell_type": "markdown",
   "id": "40c2d3c3-788b-4b2f-9db4-53235c088db5",
   "metadata": {},
   "source": [
    "<em>Сделаем тоже самое с категориальными признаками.</em>"
   ]
  },
  {
   "cell_type": "code",
   "execution_count": 23,
   "id": "4f8ddfca-fe5d-4429-b06f-faed1d9dc238",
   "metadata": {},
   "outputs": [
    {
     "data": {
      "text/plain": [
       "name           45713\n",
       "nametype       45713\n",
       "recclass       45713\n",
       "fall           45713\n",
       "GeoLocation    38398\n",
       "dtype: int64"
      ]
     },
     "execution_count": 23,
     "metadata": {},
     "output_type": "execute_result"
    }
   ],
   "source": [
    "data[categorical_columns].count(axis = 0)"
   ]
  },
  {
   "cell_type": "markdown",
   "id": "e4888b7d-1757-46e1-b752-dce9f684e244",
   "metadata": {},
   "source": [
    "<em>В столбце Geolocation не хватает 45713-38398=7315 значений. Заполним их:</em>"
   ]
  },
  {
   "cell_type": "code",
   "execution_count": 24,
   "id": "4376b6ae-0fa9-49e6-8ac2-d24c85ec05f8",
   "metadata": {},
   "outputs": [
    {
     "data": {
      "text/plain": [
       "count                    38398\n",
       "unique                   17098\n",
       "top       (0.000000, 0.000000)\n",
       "freq                      6213\n",
       "Name: GeoLocation, dtype: object"
      ]
     },
     "execution_count": 24,
     "metadata": {},
     "output_type": "execute_result"
    }
   ],
   "source": [
    "data['GeoLocation'].describe()"
   ]
  },
  {
   "cell_type": "code",
   "execution_count": 25,
   "id": "3411a598-f7a3-4f77-8f5e-1a36abd294f7",
   "metadata": {},
   "outputs": [],
   "source": [
    "data.loc[data.GeoLocation == \"?\", 'GeoLocation'] = None"
   ]
  },
  {
   "cell_type": "code",
   "execution_count": 26,
   "id": "b26b2326-0e78-4f13-bc79-8f8075324433",
   "metadata": {},
   "outputs": [
    {
     "data": {
      "text/html": [
       "<div>\n",
       "<style scoped>\n",
       "    .dataframe tbody tr th:only-of-type {\n",
       "        vertical-align: middle;\n",
       "    }\n",
       "\n",
       "    .dataframe tbody tr th {\n",
       "        vertical-align: top;\n",
       "    }\n",
       "\n",
       "    .dataframe thead th {\n",
       "        text-align: right;\n",
       "    }\n",
       "</style>\n",
       "<table border=\"1\" class=\"dataframe\">\n",
       "  <thead>\n",
       "    <tr style=\"text-align: right;\">\n",
       "      <th></th>\n",
       "      <th>name</th>\n",
       "      <th>nametype</th>\n",
       "      <th>recclass</th>\n",
       "      <th>fall</th>\n",
       "      <th>GeoLocation</th>\n",
       "    </tr>\n",
       "  </thead>\n",
       "  <tbody>\n",
       "    <tr>\n",
       "      <th>count</th>\n",
       "      <td>45713</td>\n",
       "      <td>45713</td>\n",
       "      <td>45713</td>\n",
       "      <td>45713</td>\n",
       "      <td>38398</td>\n",
       "    </tr>\n",
       "    <tr>\n",
       "      <th>unique</th>\n",
       "      <td>45713</td>\n",
       "      <td>2</td>\n",
       "      <td>466</td>\n",
       "      <td>2</td>\n",
       "      <td>17098</td>\n",
       "    </tr>\n",
       "    <tr>\n",
       "      <th>top</th>\n",
       "      <td>Aachen</td>\n",
       "      <td>Valid</td>\n",
       "      <td>L6</td>\n",
       "      <td>Found</td>\n",
       "      <td>(0.000000, 0.000000)</td>\n",
       "    </tr>\n",
       "    <tr>\n",
       "      <th>freq</th>\n",
       "      <td>1</td>\n",
       "      <td>45638</td>\n",
       "      <td>8285</td>\n",
       "      <td>44606</td>\n",
       "      <td>6213</td>\n",
       "    </tr>\n",
       "  </tbody>\n",
       "</table>\n",
       "</div>"
      ],
      "text/plain": [
       "          name nametype recclass   fall           GeoLocation\n",
       "count    45713    45713    45713  45713                 38398\n",
       "unique   45713        2      466      2                 17098\n",
       "top     Aachen    Valid       L6  Found  (0.000000, 0.000000)\n",
       "freq         1    45638     8285  44606                  6213"
      ]
     },
     "execution_count": 26,
     "metadata": {},
     "output_type": "execute_result"
    }
   ],
   "source": [
    "data.describe(include = [object])"
   ]
  },
  {
   "cell_type": "code",
   "execution_count": 27,
   "id": "9005d9ba-4864-4ad3-89e0-e82c6b6abd8a",
   "metadata": {},
   "outputs": [
    {
     "data": {
      "text/plain": [
       "pandas.core.series.Series"
      ]
     },
     "execution_count": 27,
     "metadata": {},
     "output_type": "execute_result"
    }
   ],
   "source": [
    "type(data['GeoLocation'].describe())"
   ]
  },
  {
   "cell_type": "code",
   "execution_count": 28,
   "id": "81d89bbc-9929-475a-b8ad-4729021d83d8",
   "metadata": {},
   "outputs": [
    {
     "data": {
      "text/plain": [
       "'(0.000000, 0.000000)'"
      ]
     },
     "execution_count": 28,
     "metadata": {},
     "output_type": "execute_result"
    }
   ],
   "source": [
    "data['GeoLocation'].describe().top"
   ]
  },
  {
   "cell_type": "code",
   "execution_count": 29,
   "id": "8613c8c5-e277-4479-9535-00aa2521b18e",
   "metadata": {},
   "outputs": [],
   "source": [
    "data['GeoLocation'] = data['GeoLocation'].fillna('(0.000000, 0.000000)')"
   ]
  },
  {
   "cell_type": "markdown",
   "id": "1f8b0195-1127-4916-b049-0df1e2f3201b",
   "metadata": {},
   "source": [
    "Соединим в одну таблицу:"
   ]
  },
  {
   "cell_type": "code",
   "execution_count": 30,
   "id": "6095307d-2e2e-4657-8c4c-20cddf71b340",
   "metadata": {},
   "outputs": [
    {
     "data": {
      "text/html": [
       "<div>\n",
       "<style scoped>\n",
       "    .dataframe tbody tr th:only-of-type {\n",
       "        vertical-align: middle;\n",
       "    }\n",
       "\n",
       "    .dataframe tbody tr th {\n",
       "        vertical-align: top;\n",
       "    }\n",
       "\n",
       "    .dataframe thead th {\n",
       "        text-align: right;\n",
       "    }\n",
       "</style>\n",
       "<table border=\"1\" class=\"dataframe\">\n",
       "  <thead>\n",
       "    <tr style=\"text-align: right;\">\n",
       "      <th></th>\n",
       "      <th>name</th>\n",
       "      <th>nametype</th>\n",
       "      <th>recclass</th>\n",
       "      <th>fall</th>\n",
       "      <th>GeoLocation</th>\n",
       "    </tr>\n",
       "  </thead>\n",
       "  <tbody>\n",
       "    <tr>\n",
       "      <th>count</th>\n",
       "      <td>45713</td>\n",
       "      <td>45713</td>\n",
       "      <td>45713</td>\n",
       "      <td>45713</td>\n",
       "      <td>45713</td>\n",
       "    </tr>\n",
       "    <tr>\n",
       "      <th>unique</th>\n",
       "      <td>45713</td>\n",
       "      <td>2</td>\n",
       "      <td>466</td>\n",
       "      <td>2</td>\n",
       "      <td>17098</td>\n",
       "    </tr>\n",
       "    <tr>\n",
       "      <th>top</th>\n",
       "      <td>Aachen</td>\n",
       "      <td>Valid</td>\n",
       "      <td>L6</td>\n",
       "      <td>Found</td>\n",
       "      <td>(0.000000, 0.000000)</td>\n",
       "    </tr>\n",
       "    <tr>\n",
       "      <th>freq</th>\n",
       "      <td>1</td>\n",
       "      <td>45638</td>\n",
       "      <td>8285</td>\n",
       "      <td>44606</td>\n",
       "      <td>13528</td>\n",
       "    </tr>\n",
       "  </tbody>\n",
       "</table>\n",
       "</div>"
      ],
      "text/plain": [
       "          name nametype recclass   fall           GeoLocation\n",
       "count    45713    45713    45713  45713                 45713\n",
       "unique   45713        2      466      2                 17098\n",
       "top     Aachen    Valid       L6  Found  (0.000000, 0.000000)\n",
       "freq         1    45638     8285  44606                 13528"
      ]
     },
     "execution_count": 30,
     "metadata": {},
     "output_type": "execute_result"
    }
   ],
   "source": [
    "data.describe(include = [object])"
   ]
  },
  {
   "cell_type": "code",
   "execution_count": 31,
   "id": "273eba84-5f1b-47a9-8af3-1b3fb69a84b9",
   "metadata": {},
   "outputs": [],
   "source": [
    "data_describe = data.describe(include = [object])\n",
    "for c in categorical_columns:\n",
    "    data[c] = data[c].fillna(data_describe[c]['top'])"
   ]
  },
  {
   "cell_type": "code",
   "execution_count": 32,
   "id": "436120df-ad48-422c-aee3-bade4df69f7a",
   "metadata": {},
   "outputs": [
    {
     "data": {
      "text/html": [
       "<div>\n",
       "<style scoped>\n",
       "    .dataframe tbody tr th:only-of-type {\n",
       "        vertical-align: middle;\n",
       "    }\n",
       "\n",
       "    .dataframe tbody tr th {\n",
       "        vertical-align: top;\n",
       "    }\n",
       "\n",
       "    .dataframe thead th {\n",
       "        text-align: right;\n",
       "    }\n",
       "</style>\n",
       "<table border=\"1\" class=\"dataframe\">\n",
       "  <thead>\n",
       "    <tr style=\"text-align: right;\">\n",
       "      <th></th>\n",
       "      <th>name</th>\n",
       "      <th>nametype</th>\n",
       "      <th>recclass</th>\n",
       "      <th>fall</th>\n",
       "      <th>GeoLocation</th>\n",
       "    </tr>\n",
       "  </thead>\n",
       "  <tbody>\n",
       "    <tr>\n",
       "      <th>count</th>\n",
       "      <td>45713</td>\n",
       "      <td>45713</td>\n",
       "      <td>45713</td>\n",
       "      <td>45713</td>\n",
       "      <td>45713</td>\n",
       "    </tr>\n",
       "    <tr>\n",
       "      <th>unique</th>\n",
       "      <td>45713</td>\n",
       "      <td>2</td>\n",
       "      <td>466</td>\n",
       "      <td>2</td>\n",
       "      <td>17098</td>\n",
       "    </tr>\n",
       "    <tr>\n",
       "      <th>top</th>\n",
       "      <td>Aachen</td>\n",
       "      <td>Valid</td>\n",
       "      <td>L6</td>\n",
       "      <td>Found</td>\n",
       "      <td>(0.000000, 0.000000)</td>\n",
       "    </tr>\n",
       "    <tr>\n",
       "      <th>freq</th>\n",
       "      <td>1</td>\n",
       "      <td>45638</td>\n",
       "      <td>8285</td>\n",
       "      <td>44606</td>\n",
       "      <td>13528</td>\n",
       "    </tr>\n",
       "  </tbody>\n",
       "</table>\n",
       "</div>"
      ],
      "text/plain": [
       "          name nametype recclass   fall           GeoLocation\n",
       "count    45713    45713    45713  45713                 45713\n",
       "unique   45713        2      466      2                 17098\n",
       "top     Aachen    Valid       L6  Found  (0.000000, 0.000000)\n",
       "freq         1    45638     8285  44606                 13528"
      ]
     },
     "execution_count": 32,
     "metadata": {},
     "output_type": "execute_result"
    }
   ],
   "source": [
    "data.describe(include = [object])"
   ]
  },
  {
   "cell_type": "code",
   "execution_count": 33,
   "id": "c86ce53c-b157-4355-8f9b-caac466729ce",
   "metadata": {},
   "outputs": [
    {
     "data": {
      "text/html": [
       "<div>\n",
       "<style scoped>\n",
       "    .dataframe tbody tr th:only-of-type {\n",
       "        vertical-align: middle;\n",
       "    }\n",
       "\n",
       "    .dataframe tbody tr th {\n",
       "        vertical-align: top;\n",
       "    }\n",
       "\n",
       "    .dataframe thead th {\n",
       "        text-align: right;\n",
       "    }\n",
       "</style>\n",
       "<table border=\"1\" class=\"dataframe\">\n",
       "  <thead>\n",
       "    <tr style=\"text-align: right;\">\n",
       "      <th></th>\n",
       "      <th>name</th>\n",
       "      <th>id</th>\n",
       "      <th>nametype</th>\n",
       "      <th>recclass</th>\n",
       "      <th>mass</th>\n",
       "      <th>fall</th>\n",
       "      <th>year</th>\n",
       "      <th>reclat</th>\n",
       "      <th>reclong</th>\n",
       "      <th>GeoLocation</th>\n",
       "    </tr>\n",
       "  </thead>\n",
       "  <tbody>\n",
       "    <tr>\n",
       "      <th>0</th>\n",
       "      <td>Aachen</td>\n",
       "      <td>1</td>\n",
       "      <td>Valid</td>\n",
       "      <td>L5</td>\n",
       "      <td>21.0</td>\n",
       "      <td>Fell</td>\n",
       "      <td>1880.0</td>\n",
       "      <td>50.77500</td>\n",
       "      <td>6.08333</td>\n",
       "      <td>(50.775000, 6.083330)</td>\n",
       "    </tr>\n",
       "    <tr>\n",
       "      <th>1</th>\n",
       "      <td>Aarhus</td>\n",
       "      <td>2</td>\n",
       "      <td>Valid</td>\n",
       "      <td>H6</td>\n",
       "      <td>720.0</td>\n",
       "      <td>Fell</td>\n",
       "      <td>1951.0</td>\n",
       "      <td>56.18333</td>\n",
       "      <td>10.23333</td>\n",
       "      <td>(56.183330, 10.233330)</td>\n",
       "    </tr>\n",
       "    <tr>\n",
       "      <th>2</th>\n",
       "      <td>Abee</td>\n",
       "      <td>6</td>\n",
       "      <td>Valid</td>\n",
       "      <td>EH4</td>\n",
       "      <td>107000.0</td>\n",
       "      <td>Fell</td>\n",
       "      <td>1952.0</td>\n",
       "      <td>54.21667</td>\n",
       "      <td>-113.00000</td>\n",
       "      <td>(54.216670, -113.000000)</td>\n",
       "    </tr>\n",
       "    <tr>\n",
       "      <th>3</th>\n",
       "      <td>Acapulco</td>\n",
       "      <td>10</td>\n",
       "      <td>Valid</td>\n",
       "      <td>Acapulcoite</td>\n",
       "      <td>1914.0</td>\n",
       "      <td>Fell</td>\n",
       "      <td>1976.0</td>\n",
       "      <td>16.88333</td>\n",
       "      <td>-99.90000</td>\n",
       "      <td>(16.883330, -99.900000)</td>\n",
       "    </tr>\n",
       "    <tr>\n",
       "      <th>4</th>\n",
       "      <td>Achiras</td>\n",
       "      <td>370</td>\n",
       "      <td>Valid</td>\n",
       "      <td>L6</td>\n",
       "      <td>780.0</td>\n",
       "      <td>Fell</td>\n",
       "      <td>1902.0</td>\n",
       "      <td>-33.16667</td>\n",
       "      <td>-64.95000</td>\n",
       "      <td>(-33.166670, -64.950000)</td>\n",
       "    </tr>\n",
       "    <tr>\n",
       "      <th>...</th>\n",
       "      <td>...</td>\n",
       "      <td>...</td>\n",
       "      <td>...</td>\n",
       "      <td>...</td>\n",
       "      <td>...</td>\n",
       "      <td>...</td>\n",
       "      <td>...</td>\n",
       "      <td>...</td>\n",
       "      <td>...</td>\n",
       "      <td>...</td>\n",
       "    </tr>\n",
       "    <tr>\n",
       "      <th>45711</th>\n",
       "      <td>Zillah 002</td>\n",
       "      <td>31356</td>\n",
       "      <td>Valid</td>\n",
       "      <td>Eucrite</td>\n",
       "      <td>172.0</td>\n",
       "      <td>Found</td>\n",
       "      <td>1990.0</td>\n",
       "      <td>29.03700</td>\n",
       "      <td>17.01850</td>\n",
       "      <td>(29.037000, 17.018500)</td>\n",
       "    </tr>\n",
       "    <tr>\n",
       "      <th>45712</th>\n",
       "      <td>Zinder</td>\n",
       "      <td>30409</td>\n",
       "      <td>Valid</td>\n",
       "      <td>Pallasite, ungrouped</td>\n",
       "      <td>46.0</td>\n",
       "      <td>Found</td>\n",
       "      <td>1999.0</td>\n",
       "      <td>13.78333</td>\n",
       "      <td>8.96667</td>\n",
       "      <td>(13.783330, 8.966670)</td>\n",
       "    </tr>\n",
       "    <tr>\n",
       "      <th>45713</th>\n",
       "      <td>Zlin</td>\n",
       "      <td>30410</td>\n",
       "      <td>Valid</td>\n",
       "      <td>H4</td>\n",
       "      <td>3.3</td>\n",
       "      <td>Found</td>\n",
       "      <td>1939.0</td>\n",
       "      <td>49.25000</td>\n",
       "      <td>17.66667</td>\n",
       "      <td>(49.250000, 17.666670)</td>\n",
       "    </tr>\n",
       "    <tr>\n",
       "      <th>45714</th>\n",
       "      <td>Zubkovsky</td>\n",
       "      <td>31357</td>\n",
       "      <td>Valid</td>\n",
       "      <td>L6</td>\n",
       "      <td>2167.0</td>\n",
       "      <td>Found</td>\n",
       "      <td>2003.0</td>\n",
       "      <td>49.78917</td>\n",
       "      <td>41.50460</td>\n",
       "      <td>(49.789170, 41.504600)</td>\n",
       "    </tr>\n",
       "    <tr>\n",
       "      <th>45715</th>\n",
       "      <td>Zulu Queen</td>\n",
       "      <td>30414</td>\n",
       "      <td>Valid</td>\n",
       "      <td>L3.7</td>\n",
       "      <td>200.0</td>\n",
       "      <td>Found</td>\n",
       "      <td>1976.0</td>\n",
       "      <td>33.98333</td>\n",
       "      <td>-115.68333</td>\n",
       "      <td>(33.983330, -115.683330)</td>\n",
       "    </tr>\n",
       "  </tbody>\n",
       "</table>\n",
       "<p>45713 rows × 10 columns</p>\n",
       "</div>"
      ],
      "text/plain": [
       "             name     id nametype              recclass      mass   fall  \\\n",
       "0          Aachen      1    Valid                    L5      21.0   Fell   \n",
       "1          Aarhus      2    Valid                    H6     720.0   Fell   \n",
       "2            Abee      6    Valid                   EH4  107000.0   Fell   \n",
       "3        Acapulco     10    Valid           Acapulcoite    1914.0   Fell   \n",
       "4         Achiras    370    Valid                    L6     780.0   Fell   \n",
       "...           ...    ...      ...                   ...       ...    ...   \n",
       "45711  Zillah 002  31356    Valid               Eucrite     172.0  Found   \n",
       "45712      Zinder  30409    Valid  Pallasite, ungrouped      46.0  Found   \n",
       "45713        Zlin  30410    Valid                    H4       3.3  Found   \n",
       "45714   Zubkovsky  31357    Valid                    L6    2167.0  Found   \n",
       "45715  Zulu Queen  30414    Valid                  L3.7     200.0  Found   \n",
       "\n",
       "         year    reclat    reclong               GeoLocation  \n",
       "0      1880.0  50.77500    6.08333     (50.775000, 6.083330)  \n",
       "1      1951.0  56.18333   10.23333    (56.183330, 10.233330)  \n",
       "2      1952.0  54.21667 -113.00000  (54.216670, -113.000000)  \n",
       "3      1976.0  16.88333  -99.90000   (16.883330, -99.900000)  \n",
       "4      1902.0 -33.16667  -64.95000  (-33.166670, -64.950000)  \n",
       "...       ...       ...        ...                       ...  \n",
       "45711  1990.0  29.03700   17.01850    (29.037000, 17.018500)  \n",
       "45712  1999.0  13.78333    8.96667     (13.783330, 8.966670)  \n",
       "45713  1939.0  49.25000   17.66667    (49.250000, 17.666670)  \n",
       "45714  2003.0  49.78917   41.50460    (49.789170, 41.504600)  \n",
       "45715  1976.0  33.98333 -115.68333  (33.983330, -115.683330)  \n",
       "\n",
       "[45713 rows x 10 columns]"
      ]
     },
     "execution_count": 33,
     "metadata": {},
     "output_type": "execute_result"
    }
   ],
   "source": [
    "data.dropna(axis = 0)"
   ]
  },
  {
   "cell_type": "markdown",
   "id": "34c20f45-8b81-45f2-9853-bc3076c44f4c",
   "metadata": {},
   "source": [
    "<em>В таблице 45713 строк, следовательно все пропущенные значения заполнены.</em>"
   ]
  },
  {
   "cell_type": "markdown",
   "id": "484079e2-92da-4612-adbb-605c2b992bf7",
   "metadata": {},
   "source": [
    "<div class=\"alert alert-block alert-info\">\n",
    "<b>Векторизация</b></div>"
   ]
  },
  {
   "cell_type": "markdown",
   "id": "11e8d3a8-d7ae-4391-9c38-c3b9dfabbd67",
   "metadata": {},
   "source": [
    "<em>Выделим бинарные и небинарные столбцы:</em>"
   ]
  },
  {
   "cell_type": "code",
   "execution_count": 34,
   "id": "1991dccf-caac-4891-b07c-deb8aa30f793",
   "metadata": {},
   "outputs": [
    {
     "name": "stdout",
     "output_type": "stream",
     "text": [
      "['nametype', 'fall'] ['name', 'recclass', 'GeoLocation']\n"
     ]
    }
   ],
   "source": [
    "binary_columns    = [c for c in categorical_columns if data_describe[c]['unique'] == 2]\n",
    "nonbinary_columns = [c for c in categorical_columns if data_describe[c]['unique'] > 2]\n",
    "print(binary_columns, nonbinary_columns)"
   ]
  },
  {
   "cell_type": "markdown",
   "id": "6d181c8a-29c3-4f71-8cc5-3e86e54cfe10",
   "metadata": {},
   "source": [
    "<h4><em>Работа с бинарными столбцами.</em></h4>"
   ]
  },
  {
   "cell_type": "markdown",
   "id": "d6a0aa69-8e53-4841-ad66-0b53356f9d44",
   "metadata": {},
   "source": [
    "<em>Бинарным столбцам дадим значения 0 или 1,которые соответсвуют определенным значениям.</em>"
   ]
  },
  {
   "cell_type": "code",
   "execution_count": 35,
   "id": "ab0aca75-0b19-4c67-9bc7-35de2d9fa28b",
   "metadata": {},
   "outputs": [
    {
     "data": {
      "text/plain": [
       "array(['Valid', 'Relict'], dtype=object)"
      ]
     },
     "execution_count": 35,
     "metadata": {},
     "output_type": "execute_result"
    }
   ],
   "source": [
    "data['nametype'].unique()"
   ]
  },
  {
   "cell_type": "code",
   "execution_count": 36,
   "id": "9a058ddf-58ea-48a7-83f7-de48801e891b",
   "metadata": {},
   "outputs": [
    {
     "data": {
      "text/plain": [
       "count     45713\n",
       "unique        2\n",
       "top           0\n",
       "freq      45638\n",
       "Name: nametype, dtype: int64"
      ]
     },
     "execution_count": 36,
     "metadata": {},
     "output_type": "execute_result"
    }
   ],
   "source": [
    "data.at[data['nametype'] == 'Valid', 'nametype'] = 0\n",
    "data.at[data['nametype'] == 'Relict', 'nametype'] = 1\n",
    "data['nametype'].describe()"
   ]
  },
  {
   "cell_type": "code",
   "execution_count": 37,
   "id": "0d827322-682d-4433-ad72-8994e9e19193",
   "metadata": {},
   "outputs": [
    {
     "data": {
      "text/plain": [
       "array(['Fell', 'Found'], dtype=object)"
      ]
     },
     "execution_count": 37,
     "metadata": {},
     "output_type": "execute_result"
    }
   ],
   "source": [
    "data['fall'].unique()"
   ]
  },
  {
   "cell_type": "code",
   "execution_count": 38,
   "id": "8401b11b-9724-43ea-b43d-0cae21c34801",
   "metadata": {},
   "outputs": [
    {
     "data": {
      "text/plain": [
       "count     45713\n",
       "unique        2\n",
       "top           1\n",
       "freq      44606\n",
       "Name: fall, dtype: int64"
      ]
     },
     "execution_count": 38,
     "metadata": {},
     "output_type": "execute_result"
    }
   ],
   "source": [
    "data.at[data['fall'] == 'Fell', 'fall'] = 0\n",
    "data.at[data['fall'] == 'Found', 'fall'] = 1\n",
    "data['fall'].describe()"
   ]
  },
  {
   "cell_type": "markdown",
   "id": "d4403164-5340-4e2f-beaf-9d88c8eddb58",
   "metadata": {},
   "source": [
    "<h4><em>Работа с небинарными столбцами.</em></h4>"
   ]
  },
  {
   "cell_type": "code",
   "execution_count": 39,
   "id": "d9de0a9c-6617-4773-b882-05bb8d70b866",
   "metadata": {},
   "outputs": [
    {
     "data": {
      "text/html": [
       "<div>\n",
       "<style scoped>\n",
       "    .dataframe tbody tr th:only-of-type {\n",
       "        vertical-align: middle;\n",
       "    }\n",
       "\n",
       "    .dataframe tbody tr th {\n",
       "        vertical-align: top;\n",
       "    }\n",
       "\n",
       "    .dataframe thead th {\n",
       "        text-align: right;\n",
       "    }\n",
       "</style>\n",
       "<table border=\"1\" class=\"dataframe\">\n",
       "  <thead>\n",
       "    <tr style=\"text-align: right;\">\n",
       "      <th></th>\n",
       "      <th>name</th>\n",
       "      <th>recclass</th>\n",
       "      <th>GeoLocation</th>\n",
       "    </tr>\n",
       "  </thead>\n",
       "  <tbody>\n",
       "    <tr>\n",
       "      <th>0</th>\n",
       "      <td>Aachen</td>\n",
       "      <td>L5</td>\n",
       "      <td>(50.775000, 6.083330)</td>\n",
       "    </tr>\n",
       "    <tr>\n",
       "      <th>1</th>\n",
       "      <td>Aarhus</td>\n",
       "      <td>H6</td>\n",
       "      <td>(56.183330, 10.233330)</td>\n",
       "    </tr>\n",
       "    <tr>\n",
       "      <th>2</th>\n",
       "      <td>Abee</td>\n",
       "      <td>EH4</td>\n",
       "      <td>(54.216670, -113.000000)</td>\n",
       "    </tr>\n",
       "    <tr>\n",
       "      <th>3</th>\n",
       "      <td>Acapulco</td>\n",
       "      <td>Acapulcoite</td>\n",
       "      <td>(16.883330, -99.900000)</td>\n",
       "    </tr>\n",
       "    <tr>\n",
       "      <th>4</th>\n",
       "      <td>Achiras</td>\n",
       "      <td>L6</td>\n",
       "      <td>(-33.166670, -64.950000)</td>\n",
       "    </tr>\n",
       "    <tr>\n",
       "      <th>...</th>\n",
       "      <td>...</td>\n",
       "      <td>...</td>\n",
       "      <td>...</td>\n",
       "    </tr>\n",
       "    <tr>\n",
       "      <th>45711</th>\n",
       "      <td>Zillah 002</td>\n",
       "      <td>Eucrite</td>\n",
       "      <td>(29.037000, 17.018500)</td>\n",
       "    </tr>\n",
       "    <tr>\n",
       "      <th>45712</th>\n",
       "      <td>Zinder</td>\n",
       "      <td>Pallasite, ungrouped</td>\n",
       "      <td>(13.783330, 8.966670)</td>\n",
       "    </tr>\n",
       "    <tr>\n",
       "      <th>45713</th>\n",
       "      <td>Zlin</td>\n",
       "      <td>H4</td>\n",
       "      <td>(49.250000, 17.666670)</td>\n",
       "    </tr>\n",
       "    <tr>\n",
       "      <th>45714</th>\n",
       "      <td>Zubkovsky</td>\n",
       "      <td>L6</td>\n",
       "      <td>(49.789170, 41.504600)</td>\n",
       "    </tr>\n",
       "    <tr>\n",
       "      <th>45715</th>\n",
       "      <td>Zulu Queen</td>\n",
       "      <td>L3.7</td>\n",
       "      <td>(33.983330, -115.683330)</td>\n",
       "    </tr>\n",
       "  </tbody>\n",
       "</table>\n",
       "<p>45713 rows × 3 columns</p>\n",
       "</div>"
      ],
      "text/plain": [
       "             name              recclass               GeoLocation\n",
       "0          Aachen                    L5     (50.775000, 6.083330)\n",
       "1          Aarhus                    H6    (56.183330, 10.233330)\n",
       "2            Abee                   EH4  (54.216670, -113.000000)\n",
       "3        Acapulco           Acapulcoite   (16.883330, -99.900000)\n",
       "4         Achiras                    L6  (-33.166670, -64.950000)\n",
       "...           ...                   ...                       ...\n",
       "45711  Zillah 002               Eucrite    (29.037000, 17.018500)\n",
       "45712      Zinder  Pallasite, ungrouped     (13.783330, 8.966670)\n",
       "45713        Zlin                    H4    (49.250000, 17.666670)\n",
       "45714   Zubkovsky                    L6    (49.789170, 41.504600)\n",
       "45715  Zulu Queen                  L3.7  (33.983330, -115.683330)\n",
       "\n",
       "[45713 rows x 3 columns]"
      ]
     },
     "execution_count": 39,
     "metadata": {},
     "output_type": "execute_result"
    }
   ],
   "source": [
    "data[nonbinary_columns]"
   ]
  },
  {
   "cell_type": "code",
   "execution_count": 40,
   "id": "f76eceb0-8532-4c61-b23a-3dcc8e4679ac",
   "metadata": {},
   "outputs": [],
   "source": [
    "from sklearn import preprocessing\n",
    "data_describe=data.describe(include=[object])\n",
    "number=preprocessing.LabelEncoder()\n",
    "data[\"name\"]=number.fit_transform(data[\"name\"])\n",
    "data[\"recclass\"]=number.fit_transform(data[\"recclass\"])\n",
    "data[\"GeoLocation\"]=number.fit_transform(data[\"GeoLocation\"])"
   ]
  },
  {
   "cell_type": "code",
   "execution_count": 41,
   "id": "a0e69901-65c3-488c-88c0-886009b05517",
   "metadata": {},
   "outputs": [
    {
     "data": {
      "text/html": [
       "<div>\n",
       "<style scoped>\n",
       "    .dataframe tbody tr th:only-of-type {\n",
       "        vertical-align: middle;\n",
       "    }\n",
       "\n",
       "    .dataframe tbody tr th {\n",
       "        vertical-align: top;\n",
       "    }\n",
       "\n",
       "    .dataframe thead th {\n",
       "        text-align: right;\n",
       "    }\n",
       "</style>\n",
       "<table border=\"1\" class=\"dataframe\">\n",
       "  <thead>\n",
       "    <tr style=\"text-align: right;\">\n",
       "      <th></th>\n",
       "      <th>name</th>\n",
       "      <th>id</th>\n",
       "      <th>nametype</th>\n",
       "      <th>recclass</th>\n",
       "      <th>mass</th>\n",
       "      <th>fall</th>\n",
       "      <th>year</th>\n",
       "      <th>reclat</th>\n",
       "      <th>reclong</th>\n",
       "      <th>GeoLocation</th>\n",
       "    </tr>\n",
       "  </thead>\n",
       "  <tbody>\n",
       "    <tr>\n",
       "      <th>0</th>\n",
       "      <td>0</td>\n",
       "      <td>1</td>\n",
       "      <td>0</td>\n",
       "      <td>327</td>\n",
       "      <td>21.0</td>\n",
       "      <td>0</td>\n",
       "      <td>1880.0</td>\n",
       "      <td>50.77500</td>\n",
       "      <td>6.08333</td>\n",
       "      <td>16775</td>\n",
       "    </tr>\n",
       "    <tr>\n",
       "      <th>1</th>\n",
       "      <td>1</td>\n",
       "      <td>2</td>\n",
       "      <td>0</td>\n",
       "      <td>191</td>\n",
       "      <td>720.0</td>\n",
       "      <td>0</td>\n",
       "      <td>1951.0</td>\n",
       "      <td>56.18333</td>\n",
       "      <td>10.23333</td>\n",
       "      <td>16979</td>\n",
       "    </tr>\n",
       "    <tr>\n",
       "      <th>2</th>\n",
       "      <td>5</td>\n",
       "      <td>6</td>\n",
       "      <td>0</td>\n",
       "      <td>84</td>\n",
       "      <td>107000.0</td>\n",
       "      <td>0</td>\n",
       "      <td>1952.0</td>\n",
       "      <td>54.21667</td>\n",
       "      <td>-113.00000</td>\n",
       "      <td>16919</td>\n",
       "    </tr>\n",
       "    <tr>\n",
       "      <th>3</th>\n",
       "      <td>9</td>\n",
       "      <td>10</td>\n",
       "      <td>0</td>\n",
       "      <td>0</td>\n",
       "      <td>1914.0</td>\n",
       "      <td>0</td>\n",
       "      <td>1976.0</td>\n",
       "      <td>16.88333</td>\n",
       "      <td>-99.90000</td>\n",
       "      <td>9103</td>\n",
       "    </tr>\n",
       "    <tr>\n",
       "      <th>4</th>\n",
       "      <td>405</td>\n",
       "      <td>370</td>\n",
       "      <td>0</td>\n",
       "      <td>333</td>\n",
       "      <td>780.0</td>\n",
       "      <td>0</td>\n",
       "      <td>1902.0</td>\n",
       "      <td>-33.16667</td>\n",
       "      <td>-64.95000</td>\n",
       "      <td>841</td>\n",
       "    </tr>\n",
       "    <tr>\n",
       "      <th>...</th>\n",
       "      <td>...</td>\n",
       "      <td>...</td>\n",
       "      <td>...</td>\n",
       "      <td>...</td>\n",
       "      <td>...</td>\n",
       "      <td>...</td>\n",
       "      <td>...</td>\n",
       "      <td>...</td>\n",
       "      <td>...</td>\n",
       "      <td>...</td>\n",
       "    </tr>\n",
       "    <tr>\n",
       "      <th>45711</th>\n",
       "      <td>45629</td>\n",
       "      <td>31356</td>\n",
       "      <td>0</td>\n",
       "      <td>103</td>\n",
       "      <td>172.0</td>\n",
       "      <td>1</td>\n",
       "      <td>1990.0</td>\n",
       "      <td>29.03700</td>\n",
       "      <td>17.01850</td>\n",
       "      <td>14395</td>\n",
       "    </tr>\n",
       "    <tr>\n",
       "      <th>45712</th>\n",
       "      <td>45630</td>\n",
       "      <td>30409</td>\n",
       "      <td>0</td>\n",
       "      <td>435</td>\n",
       "      <td>46.0</td>\n",
       "      <td>1</td>\n",
       "      <td>1999.0</td>\n",
       "      <td>13.78333</td>\n",
       "      <td>8.96667</td>\n",
       "      <td>9079</td>\n",
       "    </tr>\n",
       "    <tr>\n",
       "      <th>45713</th>\n",
       "      <td>45631</td>\n",
       "      <td>30410</td>\n",
       "      <td>0</td>\n",
       "      <td>175</td>\n",
       "      <td>3.3</td>\n",
       "      <td>1</td>\n",
       "      <td>1939.0</td>\n",
       "      <td>49.25000</td>\n",
       "      <td>17.66667</td>\n",
       "      <td>16698</td>\n",
       "    </tr>\n",
       "    <tr>\n",
       "      <th>45714</th>\n",
       "      <td>45635</td>\n",
       "      <td>31357</td>\n",
       "      <td>0</td>\n",
       "      <td>333</td>\n",
       "      <td>2167.0</td>\n",
       "      <td>1</td>\n",
       "      <td>2003.0</td>\n",
       "      <td>49.78917</td>\n",
       "      <td>41.50460</td>\n",
       "      <td>16722</td>\n",
       "    </tr>\n",
       "    <tr>\n",
       "      <th>45715</th>\n",
       "      <td>45636</td>\n",
       "      <td>30414</td>\n",
       "      <td>0</td>\n",
       "      <td>305</td>\n",
       "      <td>200.0</td>\n",
       "      <td>1</td>\n",
       "      <td>1976.0</td>\n",
       "      <td>33.98333</td>\n",
       "      <td>-115.68333</td>\n",
       "      <td>15081</td>\n",
       "    </tr>\n",
       "  </tbody>\n",
       "</table>\n",
       "<p>45713 rows × 10 columns</p>\n",
       "</div>"
      ],
      "text/plain": [
       "        name     id nametype  recclass      mass fall    year    reclat  \\\n",
       "0          0      1        0       327      21.0    0  1880.0  50.77500   \n",
       "1          1      2        0       191     720.0    0  1951.0  56.18333   \n",
       "2          5      6        0        84  107000.0    0  1952.0  54.21667   \n",
       "3          9     10        0         0    1914.0    0  1976.0  16.88333   \n",
       "4        405    370        0       333     780.0    0  1902.0 -33.16667   \n",
       "...      ...    ...      ...       ...       ...  ...     ...       ...   \n",
       "45711  45629  31356        0       103     172.0    1  1990.0  29.03700   \n",
       "45712  45630  30409        0       435      46.0    1  1999.0  13.78333   \n",
       "45713  45631  30410        0       175       3.3    1  1939.0  49.25000   \n",
       "45714  45635  31357        0       333    2167.0    1  2003.0  49.78917   \n",
       "45715  45636  30414        0       305     200.0    1  1976.0  33.98333   \n",
       "\n",
       "         reclong  GeoLocation  \n",
       "0        6.08333        16775  \n",
       "1       10.23333        16979  \n",
       "2     -113.00000        16919  \n",
       "3      -99.90000         9103  \n",
       "4      -64.95000          841  \n",
       "...          ...          ...  \n",
       "45711   17.01850        14395  \n",
       "45712    8.96667         9079  \n",
       "45713   17.66667        16698  \n",
       "45714   41.50460        16722  \n",
       "45715 -115.68333        15081  \n",
       "\n",
       "[45713 rows x 10 columns]"
      ]
     },
     "execution_count": 41,
     "metadata": {},
     "output_type": "execute_result"
    }
   ],
   "source": [
    "data"
   ]
  },
  {
   "cell_type": "markdown",
   "id": "e49b778d-bba2-4ee5-a253-1a8fdecde71c",
   "metadata": {},
   "source": [
    "<div class=\"alert alert-block alert-info\">\n",
    "<b>Нормализация количественных признаков</b></div>"
   ]
  },
  {
   "cell_type": "markdown",
   "id": "d1d089be-b8e8-49a9-9819-0e8e1cee3de7",
   "metadata": {},
   "source": [
    "<em>Мы будем использовать метод ближайших соседей, а он чувствителен к к масштабированию данных. Поэтому количественные признаки следует нормализовать.</em>"
   ]
  },
  {
   "cell_type": "code",
   "execution_count": 42,
   "id": "b7b24882-5dfe-4ba7-9e8d-0b13ef33fd35",
   "metadata": {},
   "outputs": [
    {
     "data": {
      "text/html": [
       "<div>\n",
       "<style scoped>\n",
       "    .dataframe tbody tr th:only-of-type {\n",
       "        vertical-align: middle;\n",
       "    }\n",
       "\n",
       "    .dataframe tbody tr th {\n",
       "        vertical-align: top;\n",
       "    }\n",
       "\n",
       "    .dataframe thead th {\n",
       "        text-align: right;\n",
       "    }\n",
       "</style>\n",
       "<table border=\"1\" class=\"dataframe\">\n",
       "  <thead>\n",
       "    <tr style=\"text-align: right;\">\n",
       "      <th></th>\n",
       "      <th>id</th>\n",
       "      <th>mass</th>\n",
       "      <th>year</th>\n",
       "      <th>reclat</th>\n",
       "      <th>reclong</th>\n",
       "    </tr>\n",
       "  </thead>\n",
       "  <tbody>\n",
       "    <tr>\n",
       "      <th>count</th>\n",
       "      <td>45713.000000</td>\n",
       "      <td>4.571300e+04</td>\n",
       "      <td>45713.000000</td>\n",
       "      <td>45713.000000</td>\n",
       "      <td>45713.000000</td>\n",
       "    </tr>\n",
       "    <tr>\n",
       "      <th>mean</th>\n",
       "      <td>26889.004572</td>\n",
       "      <td>1.324099e+04</td>\n",
       "      <td>1991.797607</td>\n",
       "      <td>-44.306820</td>\n",
       "      <td>57.003831</td>\n",
       "    </tr>\n",
       "    <tr>\n",
       "      <th>std</th>\n",
       "      <td>16860.614715</td>\n",
       "      <td>5.741837e+05</td>\n",
       "      <td>26.991110</td>\n",
       "      <td>44.131695</td>\n",
       "      <td>74.487489</td>\n",
       "    </tr>\n",
       "    <tr>\n",
       "      <th>min</th>\n",
       "      <td>1.000000</td>\n",
       "      <td>0.000000e+00</td>\n",
       "      <td>301.000000</td>\n",
       "      <td>-87.366670</td>\n",
       "      <td>-165.433330</td>\n",
       "    </tr>\n",
       "    <tr>\n",
       "      <th>25%</th>\n",
       "      <td>12688.000000</td>\n",
       "      <td>7.200000e+00</td>\n",
       "      <td>1987.000000</td>\n",
       "      <td>-76.266670</td>\n",
       "      <td>13.256500</td>\n",
       "    </tr>\n",
       "    <tr>\n",
       "      <th>50%</th>\n",
       "      <td>24261.000000</td>\n",
       "      <td>3.260000e+01</td>\n",
       "      <td>1998.000000</td>\n",
       "      <td>-71.500000</td>\n",
       "      <td>35.666670</td>\n",
       "    </tr>\n",
       "    <tr>\n",
       "      <th>75%</th>\n",
       "      <td>40656.000000</td>\n",
       "      <td>2.011000e+02</td>\n",
       "      <td>2003.000000</td>\n",
       "      <td>0.000000</td>\n",
       "      <td>155.750000</td>\n",
       "    </tr>\n",
       "    <tr>\n",
       "      <th>max</th>\n",
       "      <td>57458.000000</td>\n",
       "      <td>6.000000e+07</td>\n",
       "      <td>2013.000000</td>\n",
       "      <td>81.166670</td>\n",
       "      <td>178.200000</td>\n",
       "    </tr>\n",
       "  </tbody>\n",
       "</table>\n",
       "</div>"
      ],
      "text/plain": [
       "                 id          mass          year        reclat       reclong\n",
       "count  45713.000000  4.571300e+04  45713.000000  45713.000000  45713.000000\n",
       "mean   26889.004572  1.324099e+04   1991.797607    -44.306820     57.003831\n",
       "std    16860.614715  5.741837e+05     26.991110     44.131695     74.487489\n",
       "min        1.000000  0.000000e+00    301.000000    -87.366670   -165.433330\n",
       "25%    12688.000000  7.200000e+00   1987.000000    -76.266670     13.256500\n",
       "50%    24261.000000  3.260000e+01   1998.000000    -71.500000     35.666670\n",
       "75%    40656.000000  2.011000e+02   2003.000000      0.000000    155.750000\n",
       "max    57458.000000  6.000000e+07   2013.000000     81.166670    178.200000"
      ]
     },
     "execution_count": 42,
     "metadata": {},
     "output_type": "execute_result"
    }
   ],
   "source": [
    "data_numerical = data[numerical_columns]\n",
    "data_numerical.describe()"
   ]
  },
  {
   "cell_type": "markdown",
   "id": "808efb8b-0ae0-4767-962d-04a66315d0d4",
   "metadata": {},
   "source": [
    "<em>Каждый количественный признак приведем к нулевому среднему и единичному среднеквадратичному отклонению:</em>"
   ]
  },
  {
   "cell_type": "code",
   "execution_count": 43,
   "id": "8e32f1cc-9d4f-4c73-aba2-cbdb63e63cb1",
   "metadata": {},
   "outputs": [],
   "source": [
    "data_numerical = (data_numerical - data_numerical.mean(axis = 0))/data_numerical.std(axis = 0)"
   ]
  },
  {
   "cell_type": "code",
   "execution_count": 44,
   "id": "19bce2d2-a5f1-488c-afae-cccce979c0ca",
   "metadata": {},
   "outputs": [
    {
     "data": {
      "text/html": [
       "<div>\n",
       "<style scoped>\n",
       "    .dataframe tbody tr th:only-of-type {\n",
       "        vertical-align: middle;\n",
       "    }\n",
       "\n",
       "    .dataframe tbody tr th {\n",
       "        vertical-align: top;\n",
       "    }\n",
       "\n",
       "    .dataframe thead th {\n",
       "        text-align: right;\n",
       "    }\n",
       "</style>\n",
       "<table border=\"1\" class=\"dataframe\">\n",
       "  <thead>\n",
       "    <tr style=\"text-align: right;\">\n",
       "      <th></th>\n",
       "      <th>id</th>\n",
       "      <th>mass</th>\n",
       "      <th>year</th>\n",
       "      <th>reclat</th>\n",
       "      <th>reclong</th>\n",
       "    </tr>\n",
       "  </thead>\n",
       "  <tbody>\n",
       "    <tr>\n",
       "      <th>count</th>\n",
       "      <td>4.571300e+04</td>\n",
       "      <td>4.571300e+04</td>\n",
       "      <td>4.571300e+04</td>\n",
       "      <td>4.571300e+04</td>\n",
       "      <td>4.571300e+04</td>\n",
       "    </tr>\n",
       "    <tr>\n",
       "      <th>mean</th>\n",
       "      <td>-3.979151e-17</td>\n",
       "      <td>-5.284810e-18</td>\n",
       "      <td>2.138794e-15</td>\n",
       "      <td>6.466121e-17</td>\n",
       "      <td>1.989576e-17</td>\n",
       "    </tr>\n",
       "    <tr>\n",
       "      <th>std</th>\n",
       "      <td>1.000000e+00</td>\n",
       "      <td>1.000000e+00</td>\n",
       "      <td>1.000000e+00</td>\n",
       "      <td>1.000000e+00</td>\n",
       "      <td>1.000000e+00</td>\n",
       "    </tr>\n",
       "    <tr>\n",
       "      <th>min</th>\n",
       "      <td>-1.594723e+00</td>\n",
       "      <td>-2.306055e-02</td>\n",
       "      <td>-6.264276e+01</td>\n",
       "      <td>-9.757126e-01</td>\n",
       "      <td>-2.986235e+00</td>\n",
       "    </tr>\n",
       "    <tr>\n",
       "      <th>25%</th>\n",
       "      <td>-8.422590e-01</td>\n",
       "      <td>-2.304801e-02</td>\n",
       "      <td>-1.777477e-01</td>\n",
       "      <td>-7.241927e-01</td>\n",
       "      <td>-5.873111e-01</td>\n",
       "    </tr>\n",
       "    <tr>\n",
       "      <th>50%</th>\n",
       "      <td>-1.558665e-01</td>\n",
       "      <td>-2.300377e-02</td>\n",
       "      <td>2.297939e-01</td>\n",
       "      <td>-6.161825e-01</td>\n",
       "      <td>-2.864529e-01</td>\n",
       "    </tr>\n",
       "    <tr>\n",
       "      <th>75%</th>\n",
       "      <td>8.165180e-01</td>\n",
       "      <td>-2.271031e-02</td>\n",
       "      <td>4.150401e-01</td>\n",
       "      <td>1.003968e+00</td>\n",
       "      <td>1.325675e+00</td>\n",
       "    </tr>\n",
       "    <tr>\n",
       "      <th>max</th>\n",
       "      <td>1.813042e+00</td>\n",
       "      <td>1.044731e+02</td>\n",
       "      <td>7.855325e-01</td>\n",
       "      <td>2.843160e+00</td>\n",
       "      <td>1.627067e+00</td>\n",
       "    </tr>\n",
       "  </tbody>\n",
       "</table>\n",
       "</div>"
      ],
      "text/plain": [
       "                 id          mass          year        reclat       reclong\n",
       "count  4.571300e+04  4.571300e+04  4.571300e+04  4.571300e+04  4.571300e+04\n",
       "mean  -3.979151e-17 -5.284810e-18  2.138794e-15  6.466121e-17  1.989576e-17\n",
       "std    1.000000e+00  1.000000e+00  1.000000e+00  1.000000e+00  1.000000e+00\n",
       "min   -1.594723e+00 -2.306055e-02 -6.264276e+01 -9.757126e-01 -2.986235e+00\n",
       "25%   -8.422590e-01 -2.304801e-02 -1.777477e-01 -7.241927e-01 -5.873111e-01\n",
       "50%   -1.558665e-01 -2.300377e-02  2.297939e-01 -6.161825e-01 -2.864529e-01\n",
       "75%    8.165180e-01 -2.271031e-02  4.150401e-01  1.003968e+00  1.325675e+00\n",
       "max    1.813042e+00  1.044731e+02  7.855325e-01  2.843160e+00  1.627067e+00"
      ]
     },
     "execution_count": 44,
     "metadata": {},
     "output_type": "execute_result"
    }
   ],
   "source": [
    "data_numerical.describe()"
   ]
  },
  {
   "cell_type": "code",
   "execution_count": 45,
   "id": "8f4d46c8-c1ad-4429-9ae0-e238261d669c",
   "metadata": {},
   "outputs": [
    {
     "data": {
      "text/html": [
       "<div>\n",
       "<style scoped>\n",
       "    .dataframe tbody tr th:only-of-type {\n",
       "        vertical-align: middle;\n",
       "    }\n",
       "\n",
       "    .dataframe tbody tr th {\n",
       "        vertical-align: top;\n",
       "    }\n",
       "\n",
       "    .dataframe thead th {\n",
       "        text-align: right;\n",
       "    }\n",
       "</style>\n",
       "<table border=\"1\" class=\"dataframe\">\n",
       "  <thead>\n",
       "    <tr style=\"text-align: right;\">\n",
       "      <th></th>\n",
       "      <th>name</th>\n",
       "      <th>id</th>\n",
       "      <th>recclass</th>\n",
       "      <th>mass</th>\n",
       "      <th>year</th>\n",
       "      <th>reclat</th>\n",
       "      <th>reclong</th>\n",
       "      <th>GeoLocation</th>\n",
       "    </tr>\n",
       "  </thead>\n",
       "  <tbody>\n",
       "    <tr>\n",
       "      <th>count</th>\n",
       "      <td>45713.000000</td>\n",
       "      <td>45713.000000</td>\n",
       "      <td>45713.000000</td>\n",
       "      <td>4.571300e+04</td>\n",
       "      <td>45713.000000</td>\n",
       "      <td>45713.000000</td>\n",
       "      <td>45713.000000</td>\n",
       "      <td>45713.000000</td>\n",
       "    </tr>\n",
       "    <tr>\n",
       "      <th>mean</th>\n",
       "      <td>22856.000000</td>\n",
       "      <td>26889.004572</td>\n",
       "      <td>256.466454</td>\n",
       "      <td>1.324099e+04</td>\n",
       "      <td>1991.797607</td>\n",
       "      <td>-44.306820</td>\n",
       "      <td>57.003831</td>\n",
       "      <td>7151.255267</td>\n",
       "    </tr>\n",
       "    <tr>\n",
       "      <th>std</th>\n",
       "      <td>13196.350765</td>\n",
       "      <td>16860.614715</td>\n",
       "      <td>97.992565</td>\n",
       "      <td>5.741837e+05</td>\n",
       "      <td>26.991110</td>\n",
       "      <td>44.131695</td>\n",
       "      <td>74.487489</td>\n",
       "      <td>4236.801305</td>\n",
       "    </tr>\n",
       "    <tr>\n",
       "      <th>min</th>\n",
       "      <td>0.000000</td>\n",
       "      <td>1.000000</td>\n",
       "      <td>0.000000</td>\n",
       "      <td>0.000000e+00</td>\n",
       "      <td>301.000000</td>\n",
       "      <td>-87.366670</td>\n",
       "      <td>-165.433330</td>\n",
       "      <td>0.000000</td>\n",
       "    </tr>\n",
       "    <tr>\n",
       "      <th>25%</th>\n",
       "      <td>11428.000000</td>\n",
       "      <td>12688.000000</td>\n",
       "      <td>184.000000</td>\n",
       "      <td>7.200000e+00</td>\n",
       "      <td>1987.000000</td>\n",
       "      <td>-76.266670</td>\n",
       "      <td>13.256500</td>\n",
       "      <td>3543.000000</td>\n",
       "    </tr>\n",
       "    <tr>\n",
       "      <th>50%</th>\n",
       "      <td>22856.000000</td>\n",
       "      <td>24261.000000</td>\n",
       "      <td>276.000000</td>\n",
       "      <td>3.260000e+01</td>\n",
       "      <td>1998.000000</td>\n",
       "      <td>-71.500000</td>\n",
       "      <td>35.666670</td>\n",
       "      <td>8931.000000</td>\n",
       "    </tr>\n",
       "    <tr>\n",
       "      <th>75%</th>\n",
       "      <td>34284.000000</td>\n",
       "      <td>40656.000000</td>\n",
       "      <td>333.000000</td>\n",
       "      <td>2.011000e+02</td>\n",
       "      <td>2003.000000</td>\n",
       "      <td>0.000000</td>\n",
       "      <td>155.750000</td>\n",
       "      <td>9016.000000</td>\n",
       "    </tr>\n",
       "    <tr>\n",
       "      <th>max</th>\n",
       "      <td>45712.000000</td>\n",
       "      <td>57458.000000</td>\n",
       "      <td>465.000000</td>\n",
       "      <td>6.000000e+07</td>\n",
       "      <td>2013.000000</td>\n",
       "      <td>81.166670</td>\n",
       "      <td>178.200000</td>\n",
       "      <td>17097.000000</td>\n",
       "    </tr>\n",
       "  </tbody>\n",
       "</table>\n",
       "</div>"
      ],
      "text/plain": [
       "               name            id      recclass          mass          year  \\\n",
       "count  45713.000000  45713.000000  45713.000000  4.571300e+04  45713.000000   \n",
       "mean   22856.000000  26889.004572    256.466454  1.324099e+04   1991.797607   \n",
       "std    13196.350765  16860.614715     97.992565  5.741837e+05     26.991110   \n",
       "min        0.000000      1.000000      0.000000  0.000000e+00    301.000000   \n",
       "25%    11428.000000  12688.000000    184.000000  7.200000e+00   1987.000000   \n",
       "50%    22856.000000  24261.000000    276.000000  3.260000e+01   1998.000000   \n",
       "75%    34284.000000  40656.000000    333.000000  2.011000e+02   2003.000000   \n",
       "max    45712.000000  57458.000000    465.000000  6.000000e+07   2013.000000   \n",
       "\n",
       "             reclat       reclong   GeoLocation  \n",
       "count  45713.000000  45713.000000  45713.000000  \n",
       "mean     -44.306820     57.003831   7151.255267  \n",
       "std       44.131695     74.487489   4236.801305  \n",
       "min      -87.366670   -165.433330      0.000000  \n",
       "25%      -76.266670     13.256500   3543.000000  \n",
       "50%      -71.500000     35.666670   8931.000000  \n",
       "75%        0.000000    155.750000   9016.000000  \n",
       "max       81.166670    178.200000  17097.000000  "
      ]
     },
     "execution_count": 45,
     "metadata": {},
     "output_type": "execute_result"
    }
   ],
   "source": [
    "data.describe()"
   ]
  },
  {
   "cell_type": "markdown",
   "id": "ae0845b7-c6bc-42bd-948b-50ec60252abd",
   "metadata": {},
   "source": [
    "<div class=\"alert alert-block alert-info\">\n",
    "<b>Тестовая и обучающая выборки</b></div>"
   ]
  },
  {
   "cell_type": "code",
   "execution_count": 46,
   "id": "56c3a932-b275-4d0f-bb46-d770b8d61a30",
   "metadata": {},
   "outputs": [],
   "source": [
    "X = data.drop('fall', axis = 1) \n",
    "y = data['fall']\n",
    "feature_names = X.columns"
   ]
  },
  {
   "cell_type": "code",
   "execution_count": 47,
   "id": "c393f171-af64-460c-9f0b-baa613b298dc",
   "metadata": {},
   "outputs": [
    {
     "data": {
      "text/plain": [
       "pandas.core.indexes.base.Index"
      ]
     },
     "execution_count": 47,
     "metadata": {},
     "output_type": "execute_result"
    }
   ],
   "source": [
    "type(feature_names)"
   ]
  },
  {
   "cell_type": "code",
   "execution_count": 48,
   "id": "07c56bbd-41c8-4944-a207-3a39f2d15b50",
   "metadata": {},
   "outputs": [
    {
     "data": {
      "text/plain": [
       "Index(['name', 'id', 'nametype', 'recclass', 'mass', 'year', 'reclat',\n",
       "       'reclong', 'GeoLocation'],\n",
       "      dtype='object')"
      ]
     },
     "execution_count": 48,
     "metadata": {},
     "output_type": "execute_result"
    }
   ],
   "source": [
    "feature_names"
   ]
  },
  {
   "cell_type": "code",
   "execution_count": 49,
   "id": "3a93aed4-1741-43cd-a955-704d41c4e715",
   "metadata": {},
   "outputs": [],
   "source": [
    "X = X.to_numpy()"
   ]
  },
  {
   "cell_type": "code",
   "execution_count": 50,
   "id": "298ab79d-1f43-476e-8ef2-a0db4ae3431e",
   "metadata": {},
   "outputs": [],
   "source": [
    "y = y.to_numpy(dtype='int32')"
   ]
  },
  {
   "cell_type": "code",
   "execution_count": 51,
   "id": "c782e7c5-8c6f-4f88-8508-da30106feaf6",
   "metadata": {},
   "outputs": [
    {
     "data": {
      "text/plain": [
       "array([0, 0, 0, ..., 1, 1, 1])"
      ]
     },
     "execution_count": 51,
     "metadata": {},
     "output_type": "execute_result"
    }
   ],
   "source": [
    "y\n"
   ]
  },
  {
   "cell_type": "code",
   "execution_count": 52,
   "id": "b89212aa-48eb-475b-8404-0153ca2d4c05",
   "metadata": {},
   "outputs": [
    {
     "name": "stdout",
     "output_type": "stream",
     "text": [
      "(45713, 9)\n",
      "(45713,)\n"
     ]
    }
   ],
   "source": [
    "print(X.shape)\n",
    "print(y.shape)\n",
    "N, d = X.shape"
   ]
  },
  {
   "cell_type": "code",
   "execution_count": 53,
   "id": "c6056c63-7df1-4b5f-ab5f-72791e657fef",
   "metadata": {},
   "outputs": [
    {
     "data": {
      "text/plain": [
       "numpy.ndarray"
      ]
     },
     "execution_count": 53,
     "metadata": {},
     "output_type": "execute_result"
    }
   ],
   "source": [
    "type(X)"
   ]
  },
  {
   "cell_type": "code",
   "execution_count": 54,
   "id": "9a19218b-747d-444a-be97-d31454784e20",
   "metadata": {},
   "outputs": [
    {
     "data": {
      "text/plain": [
       "numpy.ndarray"
      ]
     },
     "execution_count": 54,
     "metadata": {},
     "output_type": "execute_result"
    }
   ],
   "source": [
    "type(y)"
   ]
  },
  {
   "cell_type": "code",
   "execution_count": 55,
   "id": "d3947521-4688-43e0-8b90-f56c6111ec01",
   "metadata": {},
   "outputs": [
    {
     "name": "stdout",
     "output_type": "stream",
     "text": [
      "Количество обучающих и тестовых данных =  31999 и 13714\n"
     ]
    }
   ],
   "source": [
    "from sklearn.model_selection import train_test_split\n",
    "X_train, X_test, y_train, y_test = train_test_split(X, y, test_size = 0.3, random_state = 42)\n",
    "\n",
    "N_train, _ = X_train.shape \n",
    "N_test,  _ = X_test.shape \n",
    "\n",
    "print('Количество обучающих и тестовых данных =  ' + str(N_train) + ' и ' + str(N_test))"
   ]
  },
  {
   "cell_type": "markdown",
   "id": "99955fb4-ee64-47f3-afd5-21bdce4e425e",
   "metadata": {},
   "source": [
    "<div class=\"alert alert-block alert-info\">\n",
    "<b>kNN</b></div>"
   ]
  },
  {
   "cell_type": "code",
   "execution_count": 56,
   "id": "8c5ed5f3-4453-454d-8d1f-94c603c44af4",
   "metadata": {},
   "outputs": [
    {
     "data": {
      "text/plain": [
       "KNeighborsClassifier(n_neighbors=10)"
      ]
     },
     "execution_count": 56,
     "metadata": {},
     "output_type": "execute_result"
    }
   ],
   "source": [
    "from sklearn.neighbors import KNeighborsClassifier\n",
    "\n",
    "knn = KNeighborsClassifier(n_neighbors = 10)\n",
    "#knn.set_params(n_neighbors=10)\n",
    "knn.fit(X_train, y_train)"
   ]
  },
  {
   "cell_type": "code",
   "execution_count": 57,
   "id": "1e80499f-955d-442d-8e2b-6ade822cf09c",
   "metadata": {},
   "outputs": [],
   "source": [
    "y_test_predict = knn.predict(X_test)\n",
    "err_test  = np.mean(y_test  != y_test_predict)"
   ]
  },
  {
   "cell_type": "code",
   "execution_count": 58,
   "id": "a6f96387-0950-44d4-a62c-31aa0a46594a",
   "metadata": {},
   "outputs": [
    {
     "data": {
      "text/plain": [
       "0.025667201400029167"
      ]
     },
     "execution_count": 58,
     "metadata": {},
     "output_type": "execute_result"
    }
   ],
   "source": [
    "err_test"
   ]
  },
  {
   "cell_type": "code",
   "execution_count": 59,
   "id": "0ae2bbf3-974f-4b32-ace6-0a1f88ea3876",
   "metadata": {},
   "outputs": [
    {
     "name": "stdout",
     "output_type": "stream",
     "text": [
      "[[   94   255]\n",
      " [   97 13268]]\n"
     ]
    }
   ],
   "source": [
    "from sklearn.metrics import confusion_matrix\n",
    "\n",
    "print(confusion_matrix(y_test, y_test_predict))"
   ]
  },
  {
   "cell_type": "code",
   "execution_count": 60,
   "id": "8aede610-3d7e-4e6c-a4fd-c4094056df3d",
   "metadata": {},
   "outputs": [
    {
     "data": {
      "text/plain": [
       "array([[3, 0],\n",
       "       [1, 1]], dtype=int64)"
      ]
     },
     "execution_count": 60,
     "metadata": {},
     "output_type": "execute_result"
    }
   ],
   "source": [
    "confusion_matrix([0,1,0,1,0], [0,1,0,0,0])"
   ]
  },
  {
   "cell_type": "markdown",
   "id": "aee39d9b-5c18-412d-ba12-2e57955366ec",
   "metadata": {},
   "source": [
    "<h4><em>Подбор параметров.</em></h4>"
   ]
  },
  {
   "cell_type": "code",
   "execution_count": 61,
   "id": "97f99602-c420-4c22-8d33-cd7de07609a0",
   "metadata": {},
   "outputs": [
    {
     "name": "stdout",
     "output_type": "stream",
     "text": [
      "0.02365699241950614 55\n"
     ]
    }
   ],
   "source": [
    "from sklearn.model_selection import GridSearchCV\n",
    "nnb = [1, 3, 5, 10, 15, 20, 25, 35, 45, 55]\n",
    "knn = KNeighborsClassifier()\n",
    "grid = GridSearchCV(knn, param_grid = {'n_neighbors': nnb}, cv=10)\n",
    "grid.fit(X_train, y_train)\n",
    "\n",
    "best_cv_err = 1 - grid.best_score_\n",
    "best_n_neighbors = grid.best_estimator_.n_neighbors\n",
    "print(best_cv_err, best_n_neighbors)"
   ]
  },
  {
   "cell_type": "markdown",
   "id": "c2e5b54a-ead4-4280-a618-2a0dc8fd8db9",
   "metadata": {},
   "source": [
    "<em>Лучший результат при наибольшем параметре = 55.</em>"
   ]
  },
  {
   "cell_type": "markdown",
   "id": "c6d68063-5a50-4a54-a13d-9ec4031f6f09",
   "metadata": {},
   "source": [
    "<h4><em>Вычисление ошибки на выборках.</em></h4>"
   ]
  },
  {
   "cell_type": "code",
   "execution_count": 62,
   "id": "0f8b996d-43b6-4162-bea1-8a649609c987",
   "metadata": {},
   "outputs": [
    {
     "name": "stdout",
     "output_type": "stream",
     "text": [
      "0.023688240257508045 0.025229692285255942\n"
     ]
    }
   ],
   "source": [
    "knn = KNeighborsClassifier(n_neighbors = best_n_neighbors).fit(X_train, y_train)\n",
    "\n",
    "err_train = np.mean(y_train != knn.predict(X_train))\n",
    "err_test  = np.mean(y_test  != knn.predict(X_test))\n",
    "\n",
    "print(err_train, err_test)"
   ]
  },
  {
   "cell_type": "markdown",
   "id": "244a0a64-4d2a-46f2-a34c-a4a96e133920",
   "metadata": {},
   "source": [
    "<div class=\"alert alert-block alert-info\">\n",
    "<b>Вывод</b></div>"
   ]
  },
  {
   "cell_type": "markdown",
   "id": "6b6ea568-e960-42c2-9f0c-bbf5ccdb241f",
   "metadata": {},
   "source": [
    "<em> Метод ближайших k соседей даёт хороший результат на данной выборке данных, а именно 2.4% и 2.2% ошибки на обучающей и тестовой выборках соответственно. Также было замечено, что большее число k дает лучший результат.Также данные были визуализированы и приведены к более подходящему виду.  </em> "
   ]
  }
 ],
 "metadata": {
  "kernelspec": {
   "display_name": "Python 3 (ipykernel)",
   "language": "python",
   "name": "python3"
  },
  "language_info": {
   "codemirror_mode": {
    "name": "ipython",
    "version": 3
   },
   "file_extension": ".py",
   "mimetype": "text/x-python",
   "name": "python",
   "nbconvert_exporter": "python",
   "pygments_lexer": "ipython3",
   "version": "3.8.6"
  }
 },
 "nbformat": 4,
 "nbformat_minor": 5
}
